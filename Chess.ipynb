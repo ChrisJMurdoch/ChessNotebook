{
 "cells": [
  {
   "cell_type": "markdown",
   "id": "58a475a1",
   "metadata": {},
   "source": [
    "# Chess games data analysis"
   ]
  },
  {
   "cell_type": "markdown",
   "id": "a3086a28",
   "metadata": {},
   "source": [
    "## Motivation\n",
    "\n",
    "The intention of this data analysis is to build a model that, given information about a Chess game's initial configuration, can suggest opening sequences that result in higher likelihoods of success.  Although the model won't be able to make highly-accurate predictions about a game's winner before the game is played, it should be able to confidently rank the opening moves to provide players with a little guidance on how to start their games."
   ]
  },
  {
   "cell_type": "markdown",
   "id": "7752a7e6",
   "metadata": {},
   "source": [
    "## Imports"
   ]
  },
  {
   "cell_type": "code",
   "execution_count": 1,
   "id": "2f97b163",
   "metadata": {},
   "outputs": [],
   "source": [
    "import sys\n",
    "assert sys.version_info >= (3, 5)\n",
    "import sklearn\n",
    "assert sklearn.__version__ >= \"0.20\"\n",
    "import numpy as np\n",
    "import os\n",
    "import urllib\n",
    "import pandas as pd\n",
    "import urllib.request\n",
    "%matplotlib inline\n",
    "import matplotlib as mpl\n",
    "import matplotlib.pyplot as plt"
   ]
  },
  {
   "cell_type": "markdown",
   "id": "56c39bc2",
   "metadata": {},
   "source": [
    "## Loading the data"
   ]
  },
  {
   "cell_type": "markdown",
   "id": "d76af9fe",
   "metadata": {},
   "source": [
    "The data has been originally sourced from [Kaggle](https://www.kaggle.com/datasnaek/chess) and is hosted on [GitHub](https://github.com/ChrisJMurdoch/ChessGameData) for convenience.\n",
    "\n",
    "To speed up this part for multiple runs, you can clone the repository to ./data/"
   ]
  },
  {
   "cell_type": "code",
   "execution_count": 2,
   "id": "e62958ad",
   "metadata": {},
   "outputs": [],
   "source": [
    "LOCAL_SRC = \"./data/\"\n",
    "GITHUB_SRC = \"https://raw.githubusercontent.com/ChrisJMurdoch/ChessGameData/main/\""
   ]
  },
  {
   "cell_type": "code",
   "execution_count": 3,
   "id": "63923d67",
   "metadata": {},
   "outputs": [],
   "source": [
    "try: # Try getting the data locally\n",
    "    data = pd.read_csv(LOCAL_SRC+\"chess_data.csv\", index_col=0)\n",
    "    \n",
    "except: # Default to GitHub repo\n",
    "    data = pd.read_csv(GITHUB_SRC+\"chess_data.csv\", index_col=0)"
   ]
  },
  {
   "cell_type": "code",
   "execution_count": 4,
   "id": "564f92d5",
   "metadata": {},
   "outputs": [],
   "source": [
    "# Rename some of the lengthier column names\n",
    "data = data.rename(columns={\n",
    "    \"created_at\":\"start\",\n",
    "    \"last_move_at\":\"end\",\n",
    "    \"victory_status\": \"status\",\n",
    "    \"opening_eco\": \"eco\"\n",
    "})"
   ]
  },
  {
   "cell_type": "markdown",
   "id": "9afc82c9",
   "metadata": {},
   "source": [
    "## Improving the data\n",
    "\n",
    "Some useful data can be inferred from existing columns to provide more meaningful results."
   ]
  },
  {
   "cell_type": "markdown",
   "id": "a4ffb09f",
   "metadata": {},
   "source": [
    "### Time and increment\n",
    "\n",
    "In chess, the time that each player has to make their move is variable.  In the original data, this data is stored as a single string in the form:\n",
    "\n",
    " - 10+5 : Each person starts with 10 minutes on their clock, and 5 seconds is added each turn\n",
    " - 0+10 : Start with no time on clock, add 10 seconds each turn\n",
    " - and so on...\n",
    "\n",
    "As this does not allow the time and increment values to be recognised as ratio values, we should separate them into columns like so:"
   ]
  },
  {
   "cell_type": "code",
   "execution_count": 5,
   "id": "921eeea7",
   "metadata": {},
   "outputs": [],
   "source": [
    "data[\"time\"]      = data[\"increment_code\"].apply( lambda code : int(code.split(\"+\")[0])*60 )\n",
    "data[\"increment\"] = data[\"increment_code\"].apply( lambda code : int(code.split(\"+\")[1]) )"
   ]
  },
  {
   "cell_type": "markdown",
   "id": "32ed1984",
   "metadata": {},
   "source": [
    "### Start and end times\n",
    "\n",
    "The columns start and end timestamps should provide good information on when the game was played and how long it lasted.  Unfortunately, the values are stored as floating-point numbers with precision far too low to give meaningful results on duration.  As can be seen below, 43% of the rows report the end time to be exactly the same as the start time."
   ]
  },
  {
   "cell_type": "code",
   "execution_count": 6,
   "id": "83aa9671",
   "metadata": {},
   "outputs": [
    {
     "data": {
      "text/plain": [
       "False    57.383588\n",
       "True     42.616412\n",
       "dtype: float64"
      ]
     },
     "execution_count": 6,
     "metadata": {},
     "output_type": "execute_result"
    }
   ],
   "source": [
    "zero_duration = data[\"end\"] == data[\"start\"]\n",
    "zero_duration.value_counts(normalize=True)*100"
   ]
  },
  {
   "cell_type": "markdown",
   "id": "161978b4",
   "metadata": {},
   "source": [
    "Although we can't get the amount of time the players took to finish the game, we can calculate how much time was available to the players.\n",
    "\n",
    "Because the time column represents the number of minutes each player has on their clock at the start of the game, and because increment represents the amount of seconds added at the start of their turn, the game's maximum duration can be calculated like so:"
   ]
  },
  {
   "cell_type": "code",
   "execution_count": 7,
   "id": "964b77e4",
   "metadata": {},
   "outputs": [],
   "source": [
    "data[\"max_duration\"] = (data[\"time\"]*2) + (data[\"turns\"]*data[\"increment\"])\n",
    "data[\"max_duration\"] = data[\"max_duration\"].clip(upper=20.25*60*60)"
   ]
  },
  {
   "cell_type": "markdown",
   "id": "4610e22b",
   "metadata": {},
   "source": [
    "Note that the time has been capped at 20.25 hours<sup>1</sup>.  As no player should exceed this time, there is no point in differentiating a player with 21 hours on the clock and one with 100 hours.\n",
    "\n",
    "<sup>1</sup> [The longest official chess game had 269 moves and lasted 20 hours and 15 minutes.](https://en.wikipedia.org/wiki/List_of_world_records_in_chess)"
   ]
  },
  {
   "cell_type": "markdown",
   "id": "9ccc7cb2",
   "metadata": {},
   "source": [
    "### Game winner\n",
    "\n",
    "As winning, drawing and losing in a zero-sum game like chess is easy to quantify, we can change the winner column to a numerical value.  This allows us to calculate the mean winner when aggregating the data.  We can also calculate the difference in ratings into a column so that the difference is preserved when the data is grouped."
   ]
  },
  {
   "cell_type": "code",
   "execution_count": 8,
   "id": "b103317f",
   "metadata": {},
   "outputs": [],
   "source": [
    "data = data.replace({ \"winner\" : {\"white\":1, \"draw\":0, \"black\":-1} })\n",
    "data[\"rating_delta\"] = data[\"white_rating\"] - data[\"black_rating\"]"
   ]
  },
  {
   "cell_type": "markdown",
   "id": "cb8aaf9d",
   "metadata": {},
   "source": [
    "## Cleaning up the data\n",
    "\n",
    "Before the data is displayed, a few of the unnecessary parts can be removed:\n"
   ]
  },
  {
   "cell_type": "code",
   "execution_count": 9,
   "id": "5b82320b",
   "metadata": {},
   "outputs": [],
   "source": [
    "# Drop the columns that aren't needed\n",
    "data = data.drop([\n",
    "    'status',               # This allows the classifier to cheat and detect draws easily\n",
    "    'start', 'end',         # These floats are too low-accuracy to provide meaningful results\n",
    "    'increment_code',       # Replaced by time and increment\n",
    "    'white_id', 'black_id', # Player names aren't relevant to this analysis\n",
    "    'moves',                # This data is complex but may be used later\n",
    "    'opening_name'          # This can be inferred from opening_eco\n",
    "], axis=1)\n",
    "\n",
    "# Change to a more intuitive column order\n",
    "data = data[[\n",
    "    \"rated\", \"winner\",\n",
    "    \"white_rating\", \"black_rating\", \"rating_delta\",\n",
    "    \"eco\", \"opening_ply\",\n",
    "    \"turns\", \"time\",\"increment\", \"max_duration\"\n",
    "]]"
   ]
  },
  {
   "cell_type": "markdown",
   "id": "b292f671",
   "metadata": {},
   "source": [
    "### Invalid rows\n",
    "\n",
    "To ensure that the data works with the neural network, all of the cells must have valid data in them.  Fortunately, as can be seen below, the data set comes with no incomplete or invalid data."
   ]
  },
  {
   "cell_type": "code",
   "execution_count": 10,
   "id": "8f962e3f",
   "metadata": {},
   "outputs": [
    {
     "data": {
      "text/html": [
       "<div>\n",
       "<style scoped>\n",
       "    .dataframe tbody tr th:only-of-type {\n",
       "        vertical-align: middle;\n",
       "    }\n",
       "\n",
       "    .dataframe tbody tr th {\n",
       "        vertical-align: top;\n",
       "    }\n",
       "\n",
       "    .dataframe thead th {\n",
       "        text-align: right;\n",
       "    }\n",
       "</style>\n",
       "<table border=\"1\" class=\"dataframe\">\n",
       "  <thead>\n",
       "    <tr style=\"text-align: right;\">\n",
       "      <th></th>\n",
       "      <th>rated</th>\n",
       "      <th>winner</th>\n",
       "      <th>white_rating</th>\n",
       "      <th>black_rating</th>\n",
       "      <th>rating_delta</th>\n",
       "      <th>eco</th>\n",
       "      <th>opening_ply</th>\n",
       "      <th>turns</th>\n",
       "      <th>time</th>\n",
       "      <th>increment</th>\n",
       "      <th>max_duration</th>\n",
       "    </tr>\n",
       "    <tr>\n",
       "      <th>id</th>\n",
       "      <th></th>\n",
       "      <th></th>\n",
       "      <th></th>\n",
       "      <th></th>\n",
       "      <th></th>\n",
       "      <th></th>\n",
       "      <th></th>\n",
       "      <th></th>\n",
       "      <th></th>\n",
       "      <th></th>\n",
       "      <th></th>\n",
       "    </tr>\n",
       "  </thead>\n",
       "  <tbody>\n",
       "  </tbody>\n",
       "</table>\n",
       "</div>"
      ],
      "text/plain": [
       "Empty DataFrame\n",
       "Columns: [rated, winner, white_rating, black_rating, rating_delta, eco, opening_ply, turns, time, increment, max_duration]\n",
       "Index: []"
      ]
     },
     "execution_count": 10,
     "metadata": {},
     "output_type": "execute_result"
    }
   ],
   "source": [
    "data[data.isnull().any(axis=1)].head()"
   ]
  },
  {
   "cell_type": "markdown",
   "id": "25299dbf",
   "metadata": {},
   "source": [
    "## Describing the data"
   ]
  },
  {
   "cell_type": "code",
   "execution_count": 11,
   "id": "abf07ab3",
   "metadata": {
    "scrolled": true
   },
   "outputs": [
    {
     "data": {
      "text/html": [
       "<div>\n",
       "<style scoped>\n",
       "    .dataframe tbody tr th:only-of-type {\n",
       "        vertical-align: middle;\n",
       "    }\n",
       "\n",
       "    .dataframe tbody tr th {\n",
       "        vertical-align: top;\n",
       "    }\n",
       "\n",
       "    .dataframe thead th {\n",
       "        text-align: right;\n",
       "    }\n",
       "</style>\n",
       "<table border=\"1\" class=\"dataframe\">\n",
       "  <thead>\n",
       "    <tr style=\"text-align: right;\">\n",
       "      <th></th>\n",
       "      <th>rated</th>\n",
       "      <th>winner</th>\n",
       "      <th>white_rating</th>\n",
       "      <th>black_rating</th>\n",
       "      <th>rating_delta</th>\n",
       "      <th>eco</th>\n",
       "      <th>opening_ply</th>\n",
       "      <th>turns</th>\n",
       "      <th>time</th>\n",
       "      <th>increment</th>\n",
       "      <th>max_duration</th>\n",
       "    </tr>\n",
       "    <tr>\n",
       "      <th>id</th>\n",
       "      <th></th>\n",
       "      <th></th>\n",
       "      <th></th>\n",
       "      <th></th>\n",
       "      <th></th>\n",
       "      <th></th>\n",
       "      <th></th>\n",
       "      <th></th>\n",
       "      <th></th>\n",
       "      <th></th>\n",
       "      <th></th>\n",
       "    </tr>\n",
       "  </thead>\n",
       "  <tbody>\n",
       "    <tr>\n",
       "      <th>TZJHLljE</th>\n",
       "      <td>False</td>\n",
       "      <td>1</td>\n",
       "      <td>1500</td>\n",
       "      <td>1191</td>\n",
       "      <td>309</td>\n",
       "      <td>D10</td>\n",
       "      <td>5</td>\n",
       "      <td>13</td>\n",
       "      <td>900</td>\n",
       "      <td>2</td>\n",
       "      <td>1826</td>\n",
       "    </tr>\n",
       "    <tr>\n",
       "      <th>l1NXvwaE</th>\n",
       "      <td>True</td>\n",
       "      <td>-1</td>\n",
       "      <td>1322</td>\n",
       "      <td>1261</td>\n",
       "      <td>61</td>\n",
       "      <td>B00</td>\n",
       "      <td>4</td>\n",
       "      <td>16</td>\n",
       "      <td>300</td>\n",
       "      <td>10</td>\n",
       "      <td>760</td>\n",
       "    </tr>\n",
       "    <tr>\n",
       "      <th>mIICvQHh</th>\n",
       "      <td>True</td>\n",
       "      <td>1</td>\n",
       "      <td>1496</td>\n",
       "      <td>1500</td>\n",
       "      <td>-4</td>\n",
       "      <td>C20</td>\n",
       "      <td>3</td>\n",
       "      <td>61</td>\n",
       "      <td>300</td>\n",
       "      <td>10</td>\n",
       "      <td>1210</td>\n",
       "    </tr>\n",
       "    <tr>\n",
       "      <th>kWKvrqYL</th>\n",
       "      <td>True</td>\n",
       "      <td>1</td>\n",
       "      <td>1439</td>\n",
       "      <td>1454</td>\n",
       "      <td>-15</td>\n",
       "      <td>D02</td>\n",
       "      <td>3</td>\n",
       "      <td>61</td>\n",
       "      <td>1200</td>\n",
       "      <td>0</td>\n",
       "      <td>2400</td>\n",
       "    </tr>\n",
       "    <tr>\n",
       "      <th>9tXo1AUZ</th>\n",
       "      <td>True</td>\n",
       "      <td>1</td>\n",
       "      <td>1523</td>\n",
       "      <td>1469</td>\n",
       "      <td>54</td>\n",
       "      <td>C41</td>\n",
       "      <td>5</td>\n",
       "      <td>95</td>\n",
       "      <td>1800</td>\n",
       "      <td>3</td>\n",
       "      <td>3885</td>\n",
       "    </tr>\n",
       "  </tbody>\n",
       "</table>\n",
       "</div>"
      ],
      "text/plain": [
       "          rated  winner  white_rating  black_rating  rating_delta  eco  \\\n",
       "id                                                                       \n",
       "TZJHLljE  False       1          1500          1191           309  D10   \n",
       "l1NXvwaE   True      -1          1322          1261            61  B00   \n",
       "mIICvQHh   True       1          1496          1500            -4  C20   \n",
       "kWKvrqYL   True       1          1439          1454           -15  D02   \n",
       "9tXo1AUZ   True       1          1523          1469            54  C41   \n",
       "\n",
       "          opening_ply  turns  time  increment  max_duration  \n",
       "id                                                           \n",
       "TZJHLljE            5     13   900          2          1826  \n",
       "l1NXvwaE            4     16   300         10           760  \n",
       "mIICvQHh            3     61   300         10          1210  \n",
       "kWKvrqYL            3     61  1200          0          2400  \n",
       "9tXo1AUZ            5     95  1800          3          3885  "
      ]
     },
     "execution_count": 11,
     "metadata": {},
     "output_type": "execute_result"
    }
   ],
   "source": [
    "data.head()"
   ]
  },
  {
   "cell_type": "markdown",
   "id": "7f34c5de",
   "metadata": {},
   "source": [
    "As can be seen above, the data consists of 11 rows:\n",
    " - **rated (nominal)**: If the game was ranked by skill\n",
    " - **winner (ratio)**: Who won the game\n",
    " - **white_rating (interval)**: Skill rating of white player\n",
    " - **black_rating (interval)**: Skill rating of black player\n",
    " - **rating_delta (ratio)**: Difference in skill ratings (white-black)\n",
    " - **eco (nominal)**: ECO code for game opening used\n",
    " - **opening_ply (ratio)**: How many moves conformed to the opening sequence\n",
    " - **turns (ratio)**: How many turns the game lasted\n",
    " - **time (ratio)**: How many seconds each player started with on their clock\n",
    " - **increment (ratio)**: How many seconds each player gained at the start of their turn\n",
    " - **max_duration (ratio)**: The maximum duration the game could have lasted"
   ]
  },
  {
   "cell_type": "code",
   "execution_count": 12,
   "id": "cde5b7f4",
   "metadata": {},
   "outputs": [
    {
     "data": {
      "text/html": [
       "<style  type=\"text/css\" >\n",
       "#T_e427e_row0_col0,#T_e427e_row0_col1,#T_e427e_row0_col2,#T_e427e_row0_col3,#T_e427e_row0_col4,#T_e427e_row0_col5,#T_e427e_row0_col6,#T_e427e_row0_col7,#T_e427e_row0_col8,#T_e427e_row0_col9,#T_e427e_row1_col1,#T_e427e_row1_col2,#T_e427e_row1_col3,#T_e427e_row1_col4,#T_e427e_row1_col5,#T_e427e_row1_col6,#T_e427e_row1_col7,#T_e427e_row1_col8,#T_e427e_row1_col9,#T_e427e_row2_col2,#T_e427e_row2_col3,#T_e427e_row2_col4,#T_e427e_row2_col5,#T_e427e_row2_col6,#T_e427e_row2_col7,#T_e427e_row2_col8,#T_e427e_row2_col9,#T_e427e_row3_col3,#T_e427e_row3_col4,#T_e427e_row3_col5,#T_e427e_row3_col6,#T_e427e_row3_col7,#T_e427e_row3_col8,#T_e427e_row3_col9,#T_e427e_row4_col4,#T_e427e_row4_col5,#T_e427e_row4_col6,#T_e427e_row4_col7,#T_e427e_row4_col8,#T_e427e_row4_col9,#T_e427e_row5_col5,#T_e427e_row5_col6,#T_e427e_row5_col7,#T_e427e_row5_col8,#T_e427e_row5_col9,#T_e427e_row6_col6,#T_e427e_row6_col7,#T_e427e_row6_col8,#T_e427e_row6_col9,#T_e427e_row7_col7,#T_e427e_row7_col8,#T_e427e_row7_col9,#T_e427e_row8_col8,#T_e427e_row8_col9,#T_e427e_row9_col9{\n",
       "            background-color:  #000000;\n",
       "            color:  #f1f1f1;\n",
       "            background-color:  #f1f1f1;\n",
       "        }#T_e427e_row1_col0{\n",
       "            background-color:  #f6f5f6;\n",
       "            color:  #000000;\n",
       "        }#T_e427e_row2_col0{\n",
       "            background-color:  #f6f7f6;\n",
       "            color:  #000000;\n",
       "        }#T_e427e_row2_col1{\n",
       "            background-color:  #c3e7bd;\n",
       "            color:  #000000;\n",
       "        }#T_e427e_row3_col0{\n",
       "            background-color:  #edf5eb;\n",
       "            color:  #000000;\n",
       "        }#T_e427e_row3_col1{\n",
       "            background-color:  #ceb5d7;\n",
       "            color:  #000000;\n",
       "        }#T_e427e_row3_col2,#T_e427e_row9_col7,#T_e427e_row9_col8{\n",
       "            background-color:  #00441b;\n",
       "            color:  #f1f1f1;\n",
       "        }#T_e427e_row4_col0,#T_e427e_row7_col5{\n",
       "            background-color:  #f2ebf2;\n",
       "            color:  #000000;\n",
       "        }#T_e427e_row4_col1{\n",
       "            background-color:  #328c47;\n",
       "            color:  #000000;\n",
       "        }#T_e427e_row4_col2{\n",
       "            background-color:  #13692f;\n",
       "            color:  #f1f1f1;\n",
       "        }#T_e427e_row4_col3{\n",
       "            background-color:  #661e73;\n",
       "            color:  #f1f1f1;\n",
       "        }#T_e427e_row5_col0{\n",
       "            background-color:  #f7f6f7;\n",
       "            color:  #000000;\n",
       "        }#T_e427e_row5_col1{\n",
       "            background-color:  #f1f5ef;\n",
       "            color:  #000000;\n",
       "        }#T_e427e_row5_col2{\n",
       "            background-color:  #69b76d;\n",
       "            color:  #000000;\n",
       "        }#T_e427e_row5_col3{\n",
       "            background-color:  #7bc17c;\n",
       "            color:  #000000;\n",
       "        }#T_e427e_row5_col4{\n",
       "            background-color:  #eff5ee;\n",
       "            color:  #000000;\n",
       "        }#T_e427e_row6_col0{\n",
       "            background-color:  #dbf1d6;\n",
       "            color:  #000000;\n",
       "        }#T_e427e_row6_col1{\n",
       "            background-color:  #f0e7f0;\n",
       "            color:  #000000;\n",
       "        }#T_e427e_row6_col2{\n",
       "            background-color:  #c9e9c3;\n",
       "            color:  #000000;\n",
       "        }#T_e427e_row6_col3{\n",
       "            background-color:  #b9e3b3;\n",
       "            color:  #000000;\n",
       "        }#T_e427e_row6_col4{\n",
       "            background-color:  #f1eaf1;\n",
       "            color:  #000000;\n",
       "        }#T_e427e_row6_col5{\n",
       "            background-color:  #e6f3e3;\n",
       "            color:  #000000;\n",
       "        }#T_e427e_row7_col0{\n",
       "            background-color:  #e6d2e7;\n",
       "            color:  #000000;\n",
       "        }#T_e427e_row7_col1,#T_e427e_row9_col1,#T_e427e_row9_col4,#T_e427e_row9_col6{\n",
       "            background-color:  #f5f7f5;\n",
       "            color:  #000000;\n",
       "        }#T_e427e_row7_col2{\n",
       "            background-color:  #ebdeec;\n",
       "            color:  #000000;\n",
       "        }#T_e427e_row7_col3{\n",
       "            background-color:  #ebdcec;\n",
       "            color:  #000000;\n",
       "        }#T_e427e_row7_col4,#T_e427e_row8_col1,#T_e427e_row8_col4{\n",
       "            background-color:  #f4f6f3;\n",
       "            color:  #000000;\n",
       "        }#T_e427e_row7_col6,#T_e427e_row8_col6{\n",
       "            background-color:  #ede2ee;\n",
       "            color:  #000000;\n",
       "        }#T_e427e_row8_col0{\n",
       "            background-color:  #e7d4e8;\n",
       "            color:  #000000;\n",
       "        }#T_e427e_row8_col2,#T_e427e_row9_col5{\n",
       "            background-color:  #f4eff4;\n",
       "            color:  #000000;\n",
       "        }#T_e427e_row8_col3{\n",
       "            background-color:  #f3eef3;\n",
       "            color:  #000000;\n",
       "        }#T_e427e_row8_col5{\n",
       "            background-color:  #f5f2f5;\n",
       "            color:  #000000;\n",
       "        }#T_e427e_row8_col7{\n",
       "            background-color:  #085424;\n",
       "            color:  #f1f1f1;\n",
       "        }#T_e427e_row9_col0{\n",
       "            background-color:  #e4d0e6;\n",
       "            color:  #000000;\n",
       "        }#T_e427e_row9_col2{\n",
       "            background-color:  #efe4ef;\n",
       "            color:  #000000;\n",
       "        }#T_e427e_row9_col3{\n",
       "            background-color:  #eee3ee;\n",
       "            color:  #000000;\n",
       "        }</style><table id=\"T_e427e_\" ><thead>    <tr>        <th class=\"blank level0\" ></th>        <th class=\"col_heading level0 col0\" >rated</th>        <th class=\"col_heading level0 col1\" >winner</th>        <th class=\"col_heading level0 col2\" >white_rating</th>        <th class=\"col_heading level0 col3\" >black_rating</th>        <th class=\"col_heading level0 col4\" >rating_delta</th>        <th class=\"col_heading level0 col5\" >opening_ply</th>        <th class=\"col_heading level0 col6\" >turns</th>        <th class=\"col_heading level0 col7\" >time</th>        <th class=\"col_heading level0 col8\" >increment</th>        <th class=\"col_heading level0 col9\" >max_duration</th>    </tr></thead><tbody>\n",
       "                <tr>\n",
       "                        <th id=\"T_e427e_level0_row0\" class=\"row_heading level0 row0\" >rated</th>\n",
       "                        <td id=\"T_e427e_row0_col0\" class=\"data row0 col0\" >nan</td>\n",
       "                        <td id=\"T_e427e_row0_col1\" class=\"data row0 col1\" >nan</td>\n",
       "                        <td id=\"T_e427e_row0_col2\" class=\"data row0 col2\" >nan</td>\n",
       "                        <td id=\"T_e427e_row0_col3\" class=\"data row0 col3\" >nan</td>\n",
       "                        <td id=\"T_e427e_row0_col4\" class=\"data row0 col4\" >nan</td>\n",
       "                        <td id=\"T_e427e_row0_col5\" class=\"data row0 col5\" >nan</td>\n",
       "                        <td id=\"T_e427e_row0_col6\" class=\"data row0 col6\" >nan</td>\n",
       "                        <td id=\"T_e427e_row0_col7\" class=\"data row0 col7\" >nan</td>\n",
       "                        <td id=\"T_e427e_row0_col8\" class=\"data row0 col8\" >nan</td>\n",
       "                        <td id=\"T_e427e_row0_col9\" class=\"data row0 col9\" >nan</td>\n",
       "            </tr>\n",
       "            <tr>\n",
       "                        <th id=\"T_e427e_level0_row1\" class=\"row_heading level0 row1\" >winner</th>\n",
       "                        <td id=\"T_e427e_row1_col0\" class=\"data row1 col0\" >-0.01</td>\n",
       "                        <td id=\"T_e427e_row1_col1\" class=\"data row1 col1\" >nan</td>\n",
       "                        <td id=\"T_e427e_row1_col2\" class=\"data row1 col2\" >nan</td>\n",
       "                        <td id=\"T_e427e_row1_col3\" class=\"data row1 col3\" >nan</td>\n",
       "                        <td id=\"T_e427e_row1_col4\" class=\"data row1 col4\" >nan</td>\n",
       "                        <td id=\"T_e427e_row1_col5\" class=\"data row1 col5\" >nan</td>\n",
       "                        <td id=\"T_e427e_row1_col6\" class=\"data row1 col6\" >nan</td>\n",
       "                        <td id=\"T_e427e_row1_col7\" class=\"data row1 col7\" >nan</td>\n",
       "                        <td id=\"T_e427e_row1_col8\" class=\"data row1 col8\" >nan</td>\n",
       "                        <td id=\"T_e427e_row1_col9\" class=\"data row1 col9\" >nan</td>\n",
       "            </tr>\n",
       "            <tr>\n",
       "                        <th id=\"T_e427e_level0_row2\" class=\"row_heading level0 row2\" >white_rating</th>\n",
       "                        <td id=\"T_e427e_row2_col0\" class=\"data row2 col0\" >0.00</td>\n",
       "                        <td id=\"T_e427e_row2_col1\" class=\"data row2 col1\" >0.14</td>\n",
       "                        <td id=\"T_e427e_row2_col2\" class=\"data row2 col2\" >nan</td>\n",
       "                        <td id=\"T_e427e_row2_col3\" class=\"data row2 col3\" >nan</td>\n",
       "                        <td id=\"T_e427e_row2_col4\" class=\"data row2 col4\" >nan</td>\n",
       "                        <td id=\"T_e427e_row2_col5\" class=\"data row2 col5\" >nan</td>\n",
       "                        <td id=\"T_e427e_row2_col6\" class=\"data row2 col6\" >nan</td>\n",
       "                        <td id=\"T_e427e_row2_col7\" class=\"data row2 col7\" >nan</td>\n",
       "                        <td id=\"T_e427e_row2_col8\" class=\"data row2 col8\" >nan</td>\n",
       "                        <td id=\"T_e427e_row2_col9\" class=\"data row2 col9\" >nan</td>\n",
       "            </tr>\n",
       "            <tr>\n",
       "                        <th id=\"T_e427e_level0_row3\" class=\"row_heading level0 row3\" >black_rating</th>\n",
       "                        <td id=\"T_e427e_row3_col0\" class=\"data row3 col0\" >0.03</td>\n",
       "                        <td id=\"T_e427e_row3_col1\" class=\"data row3 col1\" >-0.17</td>\n",
       "                        <td id=\"T_e427e_row3_col2\" class=\"data row3 col2\" >0.63</td>\n",
       "                        <td id=\"T_e427e_row3_col3\" class=\"data row3 col3\" >nan</td>\n",
       "                        <td id=\"T_e427e_row3_col4\" class=\"data row3 col4\" >nan</td>\n",
       "                        <td id=\"T_e427e_row3_col5\" class=\"data row3 col5\" >nan</td>\n",
       "                        <td id=\"T_e427e_row3_col6\" class=\"data row3 col6\" >nan</td>\n",
       "                        <td id=\"T_e427e_row3_col7\" class=\"data row3 col7\" >nan</td>\n",
       "                        <td id=\"T_e427e_row3_col8\" class=\"data row3 col8\" >nan</td>\n",
       "                        <td id=\"T_e427e_row3_col9\" class=\"data row3 col9\" >nan</td>\n",
       "            </tr>\n",
       "            <tr>\n",
       "                        <th id=\"T_e427e_level0_row4\" class=\"row_heading level0 row4\" >rating_delta</th>\n",
       "                        <td id=\"T_e427e_row4_col0\" class=\"data row4 col0\" >-0.03</td>\n",
       "                        <td id=\"T_e427e_row4_col1\" class=\"data row4 col1\" >0.36</td>\n",
       "                        <td id=\"T_e427e_row4_col2\" class=\"data row4 col2\" >0.43</td>\n",
       "                        <td id=\"T_e427e_row4_col3\" class=\"data row4 col3\" >-0.43</td>\n",
       "                        <td id=\"T_e427e_row4_col4\" class=\"data row4 col4\" >nan</td>\n",
       "                        <td id=\"T_e427e_row4_col5\" class=\"data row4 col5\" >nan</td>\n",
       "                        <td id=\"T_e427e_row4_col6\" class=\"data row4 col6\" >nan</td>\n",
       "                        <td id=\"T_e427e_row4_col7\" class=\"data row4 col7\" >nan</td>\n",
       "                        <td id=\"T_e427e_row4_col8\" class=\"data row4 col8\" >nan</td>\n",
       "                        <td id=\"T_e427e_row4_col9\" class=\"data row4 col9\" >nan</td>\n",
       "            </tr>\n",
       "            <tr>\n",
       "                        <th id=\"T_e427e_level0_row5\" class=\"row_heading level0 row5\" >opening_ply</th>\n",
       "                        <td id=\"T_e427e_row5_col0\" class=\"data row5 col0\" >-0.00</td>\n",
       "                        <td id=\"T_e427e_row5_col1\" class=\"data row5 col1\" >0.02</td>\n",
       "                        <td id=\"T_e427e_row5_col2\" class=\"data row5 col2\" >0.28</td>\n",
       "                        <td id=\"T_e427e_row5_col3\" class=\"data row5 col3\" >0.26</td>\n",
       "                        <td id=\"T_e427e_row5_col4\" class=\"data row5 col4\" >0.03</td>\n",
       "                        <td id=\"T_e427e_row5_col5\" class=\"data row5 col5\" >nan</td>\n",
       "                        <td id=\"T_e427e_row5_col6\" class=\"data row5 col6\" >nan</td>\n",
       "                        <td id=\"T_e427e_row5_col7\" class=\"data row5 col7\" >nan</td>\n",
       "                        <td id=\"T_e427e_row5_col8\" class=\"data row5 col8\" >nan</td>\n",
       "                        <td id=\"T_e427e_row5_col9\" class=\"data row5 col9\" >nan</td>\n",
       "            </tr>\n",
       "            <tr>\n",
       "                        <th id=\"T_e427e_level0_row6\" class=\"row_heading level0 row6\" >turns</th>\n",
       "                        <td id=\"T_e427e_row6_col0\" class=\"data row6 col0\" >0.09</td>\n",
       "                        <td id=\"T_e427e_row6_col1\" class=\"data row6 col1\" >-0.04</td>\n",
       "                        <td id=\"T_e427e_row6_col2\" class=\"data row6 col2\" >0.13</td>\n",
       "                        <td id=\"T_e427e_row6_col3\" class=\"data row6 col3\" >0.16</td>\n",
       "                        <td id=\"T_e427e_row6_col4\" class=\"data row6 col4\" >-0.04</td>\n",
       "                        <td id=\"T_e427e_row6_col5\" class=\"data row6 col5\" >0.06</td>\n",
       "                        <td id=\"T_e427e_row6_col6\" class=\"data row6 col6\" >nan</td>\n",
       "                        <td id=\"T_e427e_row6_col7\" class=\"data row6 col7\" >nan</td>\n",
       "                        <td id=\"T_e427e_row6_col8\" class=\"data row6 col8\" >nan</td>\n",
       "                        <td id=\"T_e427e_row6_col9\" class=\"data row6 col9\" >nan</td>\n",
       "            </tr>\n",
       "            <tr>\n",
       "                        <th id=\"T_e427e_level0_row7\" class=\"row_heading level0 row7\" >time</th>\n",
       "                        <td id=\"T_e427e_row7_col0\" class=\"data row7 col0\" >-0.11</td>\n",
       "                        <td id=\"T_e427e_row7_col1\" class=\"data row7 col1\" >0.01</td>\n",
       "                        <td id=\"T_e427e_row7_col2\" class=\"data row7 col2\" >-0.07</td>\n",
       "                        <td id=\"T_e427e_row7_col3\" class=\"data row7 col3\" >-0.08</td>\n",
       "                        <td id=\"T_e427e_row7_col4\" class=\"data row7 col4\" >0.01</td>\n",
       "                        <td id=\"T_e427e_row7_col5\" class=\"data row7 col5\" >-0.03</td>\n",
       "                        <td id=\"T_e427e_row7_col6\" class=\"data row7 col6\" >-0.06</td>\n",
       "                        <td id=\"T_e427e_row7_col7\" class=\"data row7 col7\" >nan</td>\n",
       "                        <td id=\"T_e427e_row7_col8\" class=\"data row7 col8\" >nan</td>\n",
       "                        <td id=\"T_e427e_row7_col9\" class=\"data row7 col9\" >nan</td>\n",
       "            </tr>\n",
       "            <tr>\n",
       "                        <th id=\"T_e427e_level0_row8\" class=\"row_heading level0 row8\" >increment</th>\n",
       "                        <td id=\"T_e427e_row8_col0\" class=\"data row8 col0\" >-0.10</td>\n",
       "                        <td id=\"T_e427e_row8_col1\" class=\"data row8 col1\" >0.01</td>\n",
       "                        <td id=\"T_e427e_row8_col2\" class=\"data row8 col2\" >-0.02</td>\n",
       "                        <td id=\"T_e427e_row8_col3\" class=\"data row8 col3\" >-0.03</td>\n",
       "                        <td id=\"T_e427e_row8_col4\" class=\"data row8 col4\" >0.01</td>\n",
       "                        <td id=\"T_e427e_row8_col5\" class=\"data row8 col5\" >-0.01</td>\n",
       "                        <td id=\"T_e427e_row8_col6\" class=\"data row8 col6\" >-0.06</td>\n",
       "                        <td id=\"T_e427e_row8_col7\" class=\"data row8 col7\" >0.47</td>\n",
       "                        <td id=\"T_e427e_row8_col8\" class=\"data row8 col8\" >nan</td>\n",
       "                        <td id=\"T_e427e_row8_col9\" class=\"data row8 col9\" >nan</td>\n",
       "            </tr>\n",
       "            <tr>\n",
       "                        <th id=\"T_e427e_level0_row9\" class=\"row_heading level0 row9\" >max_duration</th>\n",
       "                        <td id=\"T_e427e_row9_col0\" class=\"data row9 col0\" >-0.11</td>\n",
       "                        <td id=\"T_e427e_row9_col1\" class=\"data row9 col1\" >0.01</td>\n",
       "                        <td id=\"T_e427e_row9_col2\" class=\"data row9 col2\" >-0.05</td>\n",
       "                        <td id=\"T_e427e_row9_col3\" class=\"data row9 col3\" >-0.06</td>\n",
       "                        <td id=\"T_e427e_row9_col4\" class=\"data row9 col4\" >0.00</td>\n",
       "                        <td id=\"T_e427e_row9_col5\" class=\"data row9 col5\" >-0.02</td>\n",
       "                        <td id=\"T_e427e_row9_col6\" class=\"data row9 col6\" >0.00</td>\n",
       "                        <td id=\"T_e427e_row9_col7\" class=\"data row9 col7\" >0.95</td>\n",
       "                        <td id=\"T_e427e_row9_col8\" class=\"data row9 col8\" >0.64</td>\n",
       "                        <td id=\"T_e427e_row9_col9\" class=\"data row9 col9\" >nan</td>\n",
       "            </tr>\n",
       "    </tbody></table>"
      ],
      "text/plain": [
       "<pandas.io.formats.style.Styler at 0x14ac69dec40>"
      ]
     },
     "execution_count": 12,
     "metadata": {},
     "output_type": "execute_result"
    }
   ],
   "source": [
    "from pandas.plotting import scatter_matrix\n",
    "\n",
    "# Used to colour graph: https://stackoverflow.com/a/50703596\n",
    "corr = data.corr()\n",
    "mask = np.zeros_like(corr, dtype=bool)\n",
    "mask[np.triu_indices_from(mask)] = True\n",
    "corr[mask] = np.nan\n",
    "(corr.style\n",
    " .set_precision(2)\n",
    " .background_gradient(cmap='PRGn', axis=None, vmin=-.5, vmax=.5)\n",
    " .highlight_null(null_color='#f1f1f1'))"
   ]
  },
  {
   "cell_type": "markdown",
   "id": "b0a573a9",
   "metadata": {},
   "source": [
    "Some correlations that are immediately apparent are:\n",
    "\n",
    " - Skill ratings and the winner - higher skill results in higher win chance\n",
    " - White and black skill ratings - ranked games pit similarly-rated opponents against each other\n",
    " - Rating delta with skill ratings and winner - delta is an engineered attribute from these columns\n",
    " - Turns positively correlate with rated games - this may be because players concede/leave less in important rated games\n",
    " - Turns and skill rating - Higher skill ratings mean that game-forfeiting mistakes aren't made so often\n",
    " - Opening plays and skill rating - higher-skill players will use standard opening moves more often\n",
    " - Negative correlation between time limits and rated - not sure about this yet"
   ]
  },
  {
   "cell_type": "markdown",
   "id": "0f3f9438",
   "metadata": {},
   "source": [
    "## Aggregating the data\n",
    "\n",
    "By grouping the data by the opening code (ECO), we can see that some openings are a lot more effective than others."
   ]
  },
  {
   "cell_type": "code",
   "execution_count": 13,
   "id": "6fb5c7e5",
   "metadata": {},
   "outputs": [
    {
     "data": {
      "text/html": [
       "<div>\n",
       "<style scoped>\n",
       "    .dataframe tbody tr th:only-of-type {\n",
       "        vertical-align: middle;\n",
       "    }\n",
       "\n",
       "    .dataframe tbody tr th {\n",
       "        vertical-align: top;\n",
       "    }\n",
       "\n",
       "    .dataframe thead th {\n",
       "        text-align: right;\n",
       "    }\n",
       "</style>\n",
       "<table border=\"1\" class=\"dataframe\">\n",
       "  <thead>\n",
       "    <tr style=\"text-align: right;\">\n",
       "      <th></th>\n",
       "      <th>winner</th>\n",
       "      <th>unique</th>\n",
       "    </tr>\n",
       "    <tr>\n",
       "      <th>eco</th>\n",
       "      <th></th>\n",
       "      <th></th>\n",
       "    </tr>\n",
       "  </thead>\n",
       "  <tbody>\n",
       "    <tr>\n",
       "      <th>B20</th>\n",
       "      <td>-0.171076</td>\n",
       "      <td>567</td>\n",
       "    </tr>\n",
       "    <tr>\n",
       "      <th>A00</th>\n",
       "      <td>-0.170804</td>\n",
       "      <td>1007</td>\n",
       "    </tr>\n",
       "    <tr>\n",
       "      <th>A45</th>\n",
       "      <td>-0.126984</td>\n",
       "      <td>252</td>\n",
       "    </tr>\n",
       "    <tr>\n",
       "      <th>B30</th>\n",
       "      <td>-0.114537</td>\n",
       "      <td>227</td>\n",
       "    </tr>\n",
       "    <tr>\n",
       "      <th>C20</th>\n",
       "      <td>-0.082963</td>\n",
       "      <td>675</td>\n",
       "    </tr>\n",
       "    <tr>\n",
       "      <th>B50</th>\n",
       "      <td>-0.066372</td>\n",
       "      <td>226</td>\n",
       "    </tr>\n",
       "    <tr>\n",
       "      <th>C50</th>\n",
       "      <td>-0.052045</td>\n",
       "      <td>538</td>\n",
       "    </tr>\n",
       "    <tr>\n",
       "      <th>B06</th>\n",
       "      <td>-0.039773</td>\n",
       "      <td>176</td>\n",
       "    </tr>\n",
       "    <tr>\n",
       "      <th>D00</th>\n",
       "      <td>-0.025710</td>\n",
       "      <td>739</td>\n",
       "    </tr>\n",
       "    <tr>\n",
       "      <th>A01</th>\n",
       "      <td>-0.024390</td>\n",
       "      <td>164</td>\n",
       "    </tr>\n",
       "    <tr>\n",
       "      <th>C02</th>\n",
       "      <td>0.003610</td>\n",
       "      <td>277</td>\n",
       "    </tr>\n",
       "    <tr>\n",
       "      <th>B12</th>\n",
       "      <td>0.005988</td>\n",
       "      <td>167</td>\n",
       "    </tr>\n",
       "    <tr>\n",
       "      <th>B10</th>\n",
       "      <td>0.010363</td>\n",
       "      <td>193</td>\n",
       "    </tr>\n",
       "    <tr>\n",
       "      <th>C00</th>\n",
       "      <td>0.033175</td>\n",
       "      <td>844</td>\n",
       "    </tr>\n",
       "    <tr>\n",
       "      <th>B01</th>\n",
       "      <td>0.036313</td>\n",
       "      <td>716</td>\n",
       "    </tr>\n",
       "    <tr>\n",
       "      <th>C45</th>\n",
       "      <td>0.052817</td>\n",
       "      <td>284</td>\n",
       "    </tr>\n",
       "    <tr>\n",
       "      <th>B21</th>\n",
       "      <td>0.054852</td>\n",
       "      <td>237</td>\n",
       "    </tr>\n",
       "    <tr>\n",
       "      <th>C44</th>\n",
       "      <td>0.056000</td>\n",
       "      <td>375</td>\n",
       "    </tr>\n",
       "    <tr>\n",
       "      <th>D02</th>\n",
       "      <td>0.066820</td>\n",
       "      <td>434</td>\n",
       "    </tr>\n",
       "    <tr>\n",
       "      <th>D20</th>\n",
       "      <td>0.094787</td>\n",
       "      <td>211</td>\n",
       "    </tr>\n",
       "    <tr>\n",
       "      <th>C55</th>\n",
       "      <td>0.108974</td>\n",
       "      <td>312</td>\n",
       "    </tr>\n",
       "    <tr>\n",
       "      <th>A40</th>\n",
       "      <td>0.124595</td>\n",
       "      <td>618</td>\n",
       "    </tr>\n",
       "    <tr>\n",
       "      <th>C42</th>\n",
       "      <td>0.134557</td>\n",
       "      <td>327</td>\n",
       "    </tr>\n",
       "    <tr>\n",
       "      <th>C46</th>\n",
       "      <td>0.157303</td>\n",
       "      <td>267</td>\n",
       "    </tr>\n",
       "    <tr>\n",
       "      <th>C21</th>\n",
       "      <td>0.168605</td>\n",
       "      <td>172</td>\n",
       "    </tr>\n",
       "    <tr>\n",
       "      <th>B07</th>\n",
       "      <td>0.171053</td>\n",
       "      <td>304</td>\n",
       "    </tr>\n",
       "    <tr>\n",
       "      <th>C41</th>\n",
       "      <td>0.186686</td>\n",
       "      <td>691</td>\n",
       "    </tr>\n",
       "    <tr>\n",
       "      <th>A04</th>\n",
       "      <td>0.192982</td>\n",
       "      <td>285</td>\n",
       "    </tr>\n",
       "    <tr>\n",
       "      <th>C40</th>\n",
       "      <td>0.221973</td>\n",
       "      <td>446</td>\n",
       "    </tr>\n",
       "    <tr>\n",
       "      <th>B00</th>\n",
       "      <td>0.240589</td>\n",
       "      <td>611</td>\n",
       "    </tr>\n",
       "    <tr>\n",
       "      <th>D06</th>\n",
       "      <td>0.291667</td>\n",
       "      <td>168</td>\n",
       "    </tr>\n",
       "  </tbody>\n",
       "</table>\n",
       "</div>"
      ],
      "text/plain": [
       "       winner  unique\n",
       "eco                  \n",
       "B20 -0.171076     567\n",
       "A00 -0.170804    1007\n",
       "A45 -0.126984     252\n",
       "B30 -0.114537     227\n",
       "C20 -0.082963     675\n",
       "B50 -0.066372     226\n",
       "C50 -0.052045     538\n",
       "B06 -0.039773     176\n",
       "D00 -0.025710     739\n",
       "A01 -0.024390     164\n",
       "C02  0.003610     277\n",
       "B12  0.005988     167\n",
       "B10  0.010363     193\n",
       "C00  0.033175     844\n",
       "B01  0.036313     716\n",
       "C45  0.052817     284\n",
       "B21  0.054852     237\n",
       "C44  0.056000     375\n",
       "D02  0.066820     434\n",
       "D20  0.094787     211\n",
       "C55  0.108974     312\n",
       "A40  0.124595     618\n",
       "C42  0.134557     327\n",
       "C46  0.157303     267\n",
       "C21  0.168605     172\n",
       "B07  0.171053     304\n",
       "C41  0.186686     691\n",
       "A04  0.192982     285\n",
       "C40  0.221973     446\n",
       "B00  0.240589     611\n",
       "D06  0.291667     168"
      ]
     },
     "execution_count": 13,
     "metadata": {},
     "output_type": "execute_result"
    }
   ],
   "source": [
    "# Create new column to count unique occurrences (can't use index with agg())\n",
    "data[\"unique\"] = data.index\n",
    "\n",
    "# Group by ECO code\n",
    "grouped = data.groupby('eco').agg({'winner':'mean', 'unique':'size'})\n",
    "\n",
    "# Discard counting column\n",
    "data = data.drop(['unique'], axis=1)\n",
    "\n",
    "# Filter out the openings with few recorded uses\n",
    "filtered = grouped[grouped[\"unique\"] > 160]\n",
    "\n",
    "# Display data sorted by mean win-rate for white\n",
    "filtered = filtered.sort_values(\"winner\")\n",
    "filtered"
   ]
  },
  {
   "cell_type": "markdown",
   "id": "6b840ea4",
   "metadata": {},
   "source": [
    "Because the winner is stored as a ratio, we can find the mean winner of each opening sequence.  This data shows the opening with the highest win rate for white as the popular opening; Queen's Gambit."
   ]
  },
  {
   "cell_type": "code",
   "execution_count": 14,
   "id": "c017ee97",
   "metadata": {},
   "outputs": [
    {
     "data": {
      "text/plain": [
       "<AxesSubplot:xlabel='eco'>"
      ]
     },
     "execution_count": 14,
     "metadata": {},
     "output_type": "execute_result"
    },
    {
     "data": {
      "image/png": "[encoded data removed]",
      "text/plain": [
       "<Figure size 1440x720 with 1 Axes>"
      ]
     },
     "metadata": {
      "needs_background": "light"
     },
     "output_type": "display_data"
    }
   ],
   "source": [
    "filtered.plot(kind=\"bar\", use_index=True, y='winner', figsize=(20, 10))"
   ]
  },
  {
   "cell_type": "markdown",
   "id": "88dd2bfc",
   "metadata": {},
   "source": [
    "Although some openings are more effective than others overall, some should prove to have differing effectiveness depending on the skill level of the user.  Hopefully, the neural network's analysis will reveal what openings are good for players of a certain skill range."
   ]
  },
  {
   "cell_type": "code",
   "execution_count": 15,
   "id": "949c60d2",
   "metadata": {},
   "outputs": [
    {
     "data": {
      "text/plain": [
       "count     365.000000\n",
       "mean       54.953425\n",
       "std       129.248506\n",
       "min         1.000000\n",
       "25%         3.000000\n",
       "50%        10.000000\n",
       "75%        36.000000\n",
       "max      1007.000000\n",
       "Name: unique, dtype: float64"
      ]
     },
     "execution_count": 15,
     "metadata": {},
     "output_type": "execute_result"
    }
   ],
   "source": [
    "grouped = grouped.sort_values(\"unique\")\n",
    "grouped[\"unique\"].describe()"
   ]
  },
  {
   "cell_type": "markdown",
   "id": "ae269d2e",
   "metadata": {},
   "source": [
    "## Preprocessing the data\n",
    "\n",
    "To use Naive Bayes, all of the data must be in discrete, numerical form.  This means that continuous or near-continuous data must be put into discrete bins and all non-numerical values should be converted to numerical."
   ]
  },
  {
   "cell_type": "code",
   "execution_count": 16,
   "id": "336a766a",
   "metadata": {},
   "outputs": [
    {
     "data": {
      "text/html": [
       "<div>\n",
       "<style scoped>\n",
       "    .dataframe tbody tr th:only-of-type {\n",
       "        vertical-align: middle;\n",
       "    }\n",
       "\n",
       "    .dataframe tbody tr th {\n",
       "        vertical-align: top;\n",
       "    }\n",
       "\n",
       "    .dataframe thead th {\n",
       "        text-align: right;\n",
       "    }\n",
       "</style>\n",
       "<table border=\"1\" class=\"dataframe\">\n",
       "  <thead>\n",
       "    <tr style=\"text-align: right;\">\n",
       "      <th></th>\n",
       "      <th>rated</th>\n",
       "      <th>winner</th>\n",
       "      <th>white_rating</th>\n",
       "      <th>black_rating</th>\n",
       "      <th>rating_delta</th>\n",
       "      <th>eco</th>\n",
       "      <th>opening_ply</th>\n",
       "      <th>turns</th>\n",
       "      <th>time</th>\n",
       "      <th>increment</th>\n",
       "      <th>max_duration</th>\n",
       "    </tr>\n",
       "    <tr>\n",
       "      <th>id</th>\n",
       "      <th></th>\n",
       "      <th></th>\n",
       "      <th></th>\n",
       "      <th></th>\n",
       "      <th></th>\n",
       "      <th></th>\n",
       "      <th></th>\n",
       "      <th></th>\n",
       "      <th></th>\n",
       "      <th></th>\n",
       "      <th></th>\n",
       "    </tr>\n",
       "  </thead>\n",
       "  <tbody>\n",
       "    <tr>\n",
       "      <th>TZJHLljE</th>\n",
       "      <td>False</td>\n",
       "      <td>1</td>\n",
       "      <td>1500</td>\n",
       "      <td>1191</td>\n",
       "      <td>309</td>\n",
       "      <td>D10</td>\n",
       "      <td>5</td>\n",
       "      <td>13</td>\n",
       "      <td>900</td>\n",
       "      <td>2</td>\n",
       "      <td>1826</td>\n",
       "    </tr>\n",
       "    <tr>\n",
       "      <th>l1NXvwaE</th>\n",
       "      <td>True</td>\n",
       "      <td>-1</td>\n",
       "      <td>1322</td>\n",
       "      <td>1261</td>\n",
       "      <td>61</td>\n",
       "      <td>B00</td>\n",
       "      <td>4</td>\n",
       "      <td>16</td>\n",
       "      <td>300</td>\n",
       "      <td>10</td>\n",
       "      <td>760</td>\n",
       "    </tr>\n",
       "    <tr>\n",
       "      <th>mIICvQHh</th>\n",
       "      <td>True</td>\n",
       "      <td>1</td>\n",
       "      <td>1496</td>\n",
       "      <td>1500</td>\n",
       "      <td>-4</td>\n",
       "      <td>C20</td>\n",
       "      <td>3</td>\n",
       "      <td>61</td>\n",
       "      <td>300</td>\n",
       "      <td>10</td>\n",
       "      <td>1210</td>\n",
       "    </tr>\n",
       "    <tr>\n",
       "      <th>kWKvrqYL</th>\n",
       "      <td>True</td>\n",
       "      <td>1</td>\n",
       "      <td>1439</td>\n",
       "      <td>1454</td>\n",
       "      <td>-15</td>\n",
       "      <td>D02</td>\n",
       "      <td>3</td>\n",
       "      <td>61</td>\n",
       "      <td>1200</td>\n",
       "      <td>0</td>\n",
       "      <td>2400</td>\n",
       "    </tr>\n",
       "    <tr>\n",
       "      <th>9tXo1AUZ</th>\n",
       "      <td>True</td>\n",
       "      <td>1</td>\n",
       "      <td>1523</td>\n",
       "      <td>1469</td>\n",
       "      <td>54</td>\n",
       "      <td>C41</td>\n",
       "      <td>5</td>\n",
       "      <td>95</td>\n",
       "      <td>1800</td>\n",
       "      <td>3</td>\n",
       "      <td>3885</td>\n",
       "    </tr>\n",
       "  </tbody>\n",
       "</table>\n",
       "</div>"
      ],
      "text/plain": [
       "          rated  winner  white_rating  black_rating  rating_delta  eco  \\\n",
       "id                                                                       \n",
       "TZJHLljE  False       1          1500          1191           309  D10   \n",
       "l1NXvwaE   True      -1          1322          1261            61  B00   \n",
       "mIICvQHh   True       1          1496          1500            -4  C20   \n",
       "kWKvrqYL   True       1          1439          1454           -15  D02   \n",
       "9tXo1AUZ   True       1          1523          1469            54  C41   \n",
       "\n",
       "          opening_ply  turns  time  increment  max_duration  \n",
       "id                                                           \n",
       "TZJHLljE            5     13   900          2          1826  \n",
       "l1NXvwaE            4     16   300         10           760  \n",
       "mIICvQHh            3     61   300         10          1210  \n",
       "kWKvrqYL            3     61  1200          0          2400  \n",
       "9tXo1AUZ            5     95  1800          3          3885  "
      ]
     },
     "execution_count": 16,
     "metadata": {},
     "output_type": "execute_result"
    }
   ],
   "source": [
    "data.head()"
   ]
  },
  {
   "cell_type": "code",
   "execution_count": 17,
   "id": "ce9f17d7",
   "metadata": {},
   "outputs": [
    {
     "data": {
      "text/html": [
       "<div>\n",
       "<style scoped>\n",
       "    .dataframe tbody tr th:only-of-type {\n",
       "        vertical-align: middle;\n",
       "    }\n",
       "\n",
       "    .dataframe tbody tr th {\n",
       "        vertical-align: top;\n",
       "    }\n",
       "\n",
       "    .dataframe thead th {\n",
       "        text-align: right;\n",
       "    }\n",
       "</style>\n",
       "<table border=\"1\" class=\"dataframe\">\n",
       "  <thead>\n",
       "    <tr style=\"text-align: right;\">\n",
       "      <th></th>\n",
       "      <th>rated</th>\n",
       "      <th>winner</th>\n",
       "      <th>white_rating</th>\n",
       "      <th>black_rating</th>\n",
       "      <th>rating_delta</th>\n",
       "      <th>eco</th>\n",
       "      <th>opening_ply</th>\n",
       "      <th>turns</th>\n",
       "      <th>time</th>\n",
       "      <th>increment</th>\n",
       "      <th>max_duration</th>\n",
       "    </tr>\n",
       "    <tr>\n",
       "      <th>id</th>\n",
       "      <th></th>\n",
       "      <th></th>\n",
       "      <th></th>\n",
       "      <th></th>\n",
       "      <th></th>\n",
       "      <th></th>\n",
       "      <th></th>\n",
       "      <th></th>\n",
       "      <th></th>\n",
       "      <th></th>\n",
       "      <th></th>\n",
       "    </tr>\n",
       "  </thead>\n",
       "  <tbody>\n",
       "    <tr>\n",
       "      <th>TZJHLljE</th>\n",
       "      <td>False</td>\n",
       "      <td>1</td>\n",
       "      <td>(1441.0, 1500.0]</td>\n",
       "      <td>(788.999, 1226.0]</td>\n",
       "      <td>(293.0, 1499.0]</td>\n",
       "      <td>D10</td>\n",
       "      <td>5</td>\n",
       "      <td>13</td>\n",
       "      <td>900</td>\n",
       "      <td>2</td>\n",
       "      <td>(1800.0, 2280.0]</td>\n",
       "    </tr>\n",
       "    <tr>\n",
       "      <th>l1NXvwaE</th>\n",
       "      <td>True</td>\n",
       "      <td>-1</td>\n",
       "      <td>(1236.0, 1351.0]</td>\n",
       "      <td>(1226.0, 1346.0]</td>\n",
       "      <td>(39.0, 89.0]</td>\n",
       "      <td>B00</td>\n",
       "      <td>4</td>\n",
       "      <td>16</td>\n",
       "      <td>300</td>\n",
       "      <td>10</td>\n",
       "      <td>(31.999, 976.0]</td>\n",
       "    </tr>\n",
       "    <tr>\n",
       "      <th>mIICvQHh</th>\n",
       "      <td>True</td>\n",
       "      <td>1</td>\n",
       "      <td>(1441.0, 1500.0]</td>\n",
       "      <td>(1432.0, 1500.0]</td>\n",
       "      <td>(-29.0, 3.0]</td>\n",
       "      <td>C20</td>\n",
       "      <td>3</td>\n",
       "      <td>61</td>\n",
       "      <td>300</td>\n",
       "      <td>10</td>\n",
       "      <td>(1200.0, 1430.0]</td>\n",
       "    </tr>\n",
       "    <tr>\n",
       "      <th>kWKvrqYL</th>\n",
       "      <td>True</td>\n",
       "      <td>1</td>\n",
       "      <td>(1351.0, 1441.0]</td>\n",
       "      <td>(1432.0, 1500.0]</td>\n",
       "      <td>(-29.0, 3.0]</td>\n",
       "      <td>D02</td>\n",
       "      <td>3</td>\n",
       "      <td>61</td>\n",
       "      <td>1200</td>\n",
       "      <td>0</td>\n",
       "      <td>(2280.0, 3015.0]</td>\n",
       "    </tr>\n",
       "    <tr>\n",
       "      <th>9tXo1AUZ</th>\n",
       "      <td>True</td>\n",
       "      <td>1</td>\n",
       "      <td>(1500.0, 1567.0]</td>\n",
       "      <td>(1432.0, 1500.0]</td>\n",
       "      <td>(39.0, 89.0]</td>\n",
       "      <td>C41</td>\n",
       "      <td>5</td>\n",
       "      <td>95</td>\n",
       "      <td>1800</td>\n",
       "      <td>3</td>\n",
       "      <td>(3015.0, 46260.0]</td>\n",
       "    </tr>\n",
       "  </tbody>\n",
       "</table>\n",
       "</div>"
      ],
      "text/plain": [
       "          rated  winner      white_rating       black_rating     rating_delta  \\\n",
       "id                                                                              \n",
       "TZJHLljE  False       1  (1441.0, 1500.0]  (788.999, 1226.0]  (293.0, 1499.0]   \n",
       "l1NXvwaE   True      -1  (1236.0, 1351.0]   (1226.0, 1346.0]     (39.0, 89.0]   \n",
       "mIICvQHh   True       1  (1441.0, 1500.0]   (1432.0, 1500.0]     (-29.0, 3.0]   \n",
       "kWKvrqYL   True       1  (1351.0, 1441.0]   (1432.0, 1500.0]     (-29.0, 3.0]   \n",
       "9tXo1AUZ   True       1  (1500.0, 1567.0]   (1432.0, 1500.0]     (39.0, 89.0]   \n",
       "\n",
       "          eco  opening_ply  turns  time  increment       max_duration  \n",
       "id                                                                     \n",
       "TZJHLljE  D10            5     13   900          2   (1800.0, 2280.0]  \n",
       "l1NXvwaE  B00            4     16   300         10    (31.999, 976.0]  \n",
       "mIICvQHh  C20            3     61   300         10   (1200.0, 1430.0]  \n",
       "kWKvrqYL  D02            3     61  1200          0   (2280.0, 3015.0]  \n",
       "9tXo1AUZ  C41            5     95  1800          3  (3015.0, 46260.0]  "
      ]
     },
     "execution_count": 17,
     "metadata": {},
     "output_type": "execute_result"
    }
   ],
   "source": [
    "# Discretise and bin data\n",
    "def discretise(data):\n",
    "    discrete = data.copy()\n",
    "    discrete['white_rating'] = pd.qcut(data['white_rating'], q=10, duplicates='drop')\n",
    "    discrete['black_rating'] = pd.qcut(data['black_rating'], q=10, duplicates='drop')\n",
    "    discrete['rating_delta'] = pd.qcut(data['rating_delta'], q=10, duplicates='drop')\n",
    "    discrete['max_duration'] = pd.qcut(data['max_duration'], q=10, duplicates='drop')\n",
    "    return discrete\n",
    "\n",
    "discrete = discretise(data)\n",
    "discrete.head()"
   ]
  },
  {
   "cell_type": "code",
   "execution_count": 18,
   "id": "4ed37848",
   "metadata": {},
   "outputs": [
    {
     "data": {
      "text/html": [
       "<div>\n",
       "<style scoped>\n",
       "    .dataframe tbody tr th:only-of-type {\n",
       "        vertical-align: middle;\n",
       "    }\n",
       "\n",
       "    .dataframe tbody tr th {\n",
       "        vertical-align: top;\n",
       "    }\n",
       "\n",
       "    .dataframe thead th {\n",
       "        text-align: right;\n",
       "    }\n",
       "</style>\n",
       "<table border=\"1\" class=\"dataframe\">\n",
       "  <thead>\n",
       "    <tr style=\"text-align: right;\">\n",
       "      <th></th>\n",
       "      <th>rated</th>\n",
       "      <th>winner</th>\n",
       "      <th>white_rating</th>\n",
       "      <th>black_rating</th>\n",
       "      <th>rating_delta</th>\n",
       "      <th>eco</th>\n",
       "      <th>opening_ply</th>\n",
       "      <th>turns</th>\n",
       "      <th>time</th>\n",
       "      <th>increment</th>\n",
       "      <th>max_duration</th>\n",
       "    </tr>\n",
       "    <tr>\n",
       "      <th>id</th>\n",
       "      <th></th>\n",
       "      <th></th>\n",
       "      <th></th>\n",
       "      <th></th>\n",
       "      <th></th>\n",
       "      <th></th>\n",
       "      <th></th>\n",
       "      <th></th>\n",
       "      <th></th>\n",
       "      <th></th>\n",
       "      <th></th>\n",
       "    </tr>\n",
       "  </thead>\n",
       "  <tbody>\n",
       "    <tr>\n",
       "      <th>TZJHLljE</th>\n",
       "      <td>0</td>\n",
       "      <td>1</td>\n",
       "      <td>3</td>\n",
       "      <td>0</td>\n",
       "      <td>9</td>\n",
       "      <td>248</td>\n",
       "      <td>5</td>\n",
       "      <td>13</td>\n",
       "      <td>900</td>\n",
       "      <td>2</td>\n",
       "      <td>4</td>\n",
       "    </tr>\n",
       "    <tr>\n",
       "      <th>l1NXvwaE</th>\n",
       "      <td>1</td>\n",
       "      <td>-1</td>\n",
       "      <td>1</td>\n",
       "      <td>1</td>\n",
       "      <td>6</td>\n",
       "      <td>71</td>\n",
       "      <td>4</td>\n",
       "      <td>16</td>\n",
       "      <td>300</td>\n",
       "      <td>10</td>\n",
       "      <td>0</td>\n",
       "    </tr>\n",
       "    <tr>\n",
       "      <th>mIICvQHh</th>\n",
       "      <td>1</td>\n",
       "      <td>1</td>\n",
       "      <td>3</td>\n",
       "      <td>3</td>\n",
       "      <td>4</td>\n",
       "      <td>171</td>\n",
       "      <td>3</td>\n",
       "      <td>61</td>\n",
       "      <td>300</td>\n",
       "      <td>10</td>\n",
       "      <td>2</td>\n",
       "    </tr>\n",
       "    <tr>\n",
       "      <th>kWKvrqYL</th>\n",
       "      <td>1</td>\n",
       "      <td>1</td>\n",
       "      <td>2</td>\n",
       "      <td>3</td>\n",
       "      <td>4</td>\n",
       "      <td>241</td>\n",
       "      <td>3</td>\n",
       "      <td>61</td>\n",
       "      <td>1200</td>\n",
       "      <td>0</td>\n",
       "      <td>5</td>\n",
       "    </tr>\n",
       "    <tr>\n",
       "      <th>9tXo1AUZ</th>\n",
       "      <td>1</td>\n",
       "      <td>1</td>\n",
       "      <td>4</td>\n",
       "      <td>3</td>\n",
       "      <td>6</td>\n",
       "      <td>192</td>\n",
       "      <td>5</td>\n",
       "      <td>95</td>\n",
       "      <td>1800</td>\n",
       "      <td>3</td>\n",
       "      <td>6</td>\n",
       "    </tr>\n",
       "  </tbody>\n",
       "</table>\n",
       "</div>"
      ],
      "text/plain": [
       "          rated  winner  white_rating  black_rating  rating_delta  eco  \\\n",
       "id                                                                       \n",
       "TZJHLljE      0       1             3             0             9  248   \n",
       "l1NXvwaE      1      -1             1             1             6   71   \n",
       "mIICvQHh      1       1             3             3             4  171   \n",
       "kWKvrqYL      1       1             2             3             4  241   \n",
       "9tXo1AUZ      1       1             4             3             6  192   \n",
       "\n",
       "          opening_ply  turns  time  increment  max_duration  \n",
       "id                                                           \n",
       "TZJHLljE            5     13   900          2             4  \n",
       "l1NXvwaE            4     16   300         10             0  \n",
       "mIICvQHh            3     61   300         10             2  \n",
       "kWKvrqYL            3     61  1200          0             5  \n",
       "9tXo1AUZ            5     95  1800          3             6  "
      ]
     },
     "execution_count": 18,
     "metadata": {},
     "output_type": "execute_result"
    }
   ],
   "source": [
    "# Numberise non-numerical columns\n",
    "from sklearn import preprocessing\n",
    "encoder = preprocessing.LabelEncoder()\n",
    "def numberise(data, include=None):\n",
    "    if include:\n",
    "        return data.apply(lambda x: encoder.fit_transform(x) if x.name in include else x)\n",
    "    else:\n",
    "        return data.apply(lambda x: encoder.fit_transform(x))\n",
    "\n",
    "discrete = numberise(\n",
    "    discrete,\n",
    "    {'rated', 'status', 'white_rating', 'black_rating', 'rating_delta', 'eco', 'max_duration'}\n",
    ")\n",
    "discrete.head()"
   ]
  },
  {
   "cell_type": "markdown",
   "id": "9593e5fa",
   "metadata": {},
   "source": [
    "## A note on classifier accuracy\n",
    "\n",
    "Unlike other potential datasets, this set cannot have a near-perfect accuracy.  Where a dataset on bank loan approval may include all the data needed to make a very accurate prediction, this data on chess game variables only provides a clue as to who may win.  The winner is ultimately decided on how well the participants play.\n",
    "\n",
    "Because the application of this classifier will be to suggest good openings to players given a set of game variables, the classifier will focus on making the best predictions possible with limited information."
   ]
  },
  {
   "cell_type": "markdown",
   "id": "cd869312",
   "metadata": {},
   "source": [
    "## Using and evaluating the classifiers\n",
    "\n",
    "Now that the data is in a form that Naive Bayes can work with, it's time to actually use the classifier.  We can use sklearn to quickly train and test the accuracy of a multinomial implementation of Naive Bayes:"
   ]
  },
  {
   "cell_type": "code",
   "execution_count": 19,
   "id": "9e7b6b27",
   "metadata": {},
   "outputs": [
    {
     "data": {
      "text/plain": [
       "0.40332993538088974"
      ]
     },
     "execution_count": 19,
     "metadata": {},
     "output_type": "execute_result"
    }
   ],
   "source": [
    "from sklearn.naive_bayes import MultinomialNB, BernoulliNB, GaussianNB\n",
    "from sklearn.model_selection import cross_val_score\n",
    "\n",
    "# Evaluate score\n",
    "scores = cross_val_score(MultinomialNB(), discrete.drop(['winner'], axis=1), discrete['winner'], cv=10, scoring=\"accuracy\")\n",
    "sum(scores) / len(scores)"
   ]
  },
  {
   "cell_type": "markdown",
   "id": "ea30b541",
   "metadata": {},
   "source": [
    "This is ok, but it can be improved.  Firstly, an accuracy of 0.4 is not as high as it could be which suggests we may be using the wrong implementation of Naive Bayes.  Secondly, the accuracy only shows the percentage of predictions it made that were correct.  It doesn't show other metrics such as how many correct instances it didn't predict.\n",
    "\n",
    "To better visualise the performance of classifiers and attribute configurations, the following utility has been written to automate training the model, generate a confusion matrix, and report the relevant metrics."
   ]
  },
  {
   "cell_type": "code",
   "execution_count": 20,
   "id": "7341607b",
   "metadata": {},
   "outputs": [],
   "source": [
    "from sklearn.model_selection import cross_val_predict\n",
    "from sklearn.metrics import confusion_matrix\n",
    "from sklearn.metrics import roc_auc_score\n",
    "\n",
    "def classifier_metrics(classifier, data, class_name, attributes=None):\n",
    "    \"\"\"\n",
    "    Prints performance metrics for the given configuration\n",
    "    @param classifier: The sklearn classifier with which to classify the data\n",
    "    @param data: The pandas dataframe containing the instance data\n",
    "    @param class_name: String stating the name of the column to be used as the output class\n",
    "    @param attributes: Optional array of strings to specify which columns are to be used for classification\n",
    "    \"\"\"\n",
    "    \n",
    "    # Optionally get subset of attributes for attributes selection\n",
    "    if attributes != None:\n",
    "        if class_name not in attributes:\n",
    "            attributes.append(class_name)\n",
    "        data = data[attributes]\n",
    "    \n",
    "    # Separate model data from output\n",
    "    model = data.drop([class_name], axis=1)\n",
    "    output = data[class_name]\n",
    "    \n",
    "    # Print dataframe size\n",
    "    attributes = len(model.columns)\n",
    "    print(f'Attributes: {attributes}')\n",
    "    \n",
    "    # Train classifier\n",
    "    classifier.fit(model, output)\n",
    "    \n",
    "    # Get confusion matrix\n",
    "    output_predict = cross_val_predict(classifier, model, output, cv=10)\n",
    "    confusion = confusion_matrix(output, output_predict)\n",
    "    \n",
    "    # Area under ROC curve\n",
    "    roc = roc_auc_score(output, classifier.predict_proba(model), multi_class='ovr')\n",
    "    print (f'ROC AUC: {round(roc, 3)}')\n",
    "    \n",
    "    # Get precision, recall and f1 values\n",
    "    print (f'Class metrics:')\n",
    "    sum_p, sum_r, sum_f = 0, 0, 0\n",
    "    for i in range(len(confusion)):\n",
    "        p, r, f = confusion_metrics(confusion, i)\n",
    "        print(f' - Class {i+1}: Precision: {round(p, 2)} Recall: {round(r, 2)} F1: {round(f, 2)}')\n",
    "        sum_p += p\n",
    "        sum_r += r\n",
    "        sum_f += f\n",
    "    s = len(confusion)\n",
    "    avg_p = sum_p/s\n",
    "    avg_r = sum_r/s\n",
    "    avg_f = sum_f/s\n",
    "    print(f' - Average: Precision: {round(avg_p, 2)} Recall: {round(avg_r, 2)} F1: {round(avg_f, 2)}')\n",
    "    return attributes, avg_p, avg_r, avg_f, roc\n",
    "    \n",
    "def confusion_metrics(cmat, index):\n",
    "    \"\"\"\n",
    "    Returns performance metrics for a given confusion matrix and class index\n",
    "    @param cmat: The confusion matrix from which to retrieve the data\n",
    "    @param index: The index of the class being analysed\n",
    "    \"\"\"\n",
    "    \n",
    "    # Calculate basic values\n",
    "    transpose = list(map(list, zip(*cmat)))\n",
    "    tp = cmat[index][index]\n",
    "    fp = sum(cmat[index]) - tp\n",
    "    fn = sum(transpose[index]) - tp\n",
    "    tn = sum(map(sum, cmat)) - (tp+fp+fn)\n",
    "    \n",
    "    # Calculate complex metrics\n",
    "    precision = tp / (tp+fp)\n",
    "    recall = (tp / (tp+fn)) if (tp+fn>0) else 0.0\n",
    "    f1 = (2 * (precision*recall) / (precision+recall)) if (precision+recall>0) else 0.0\n",
    "    \n",
    "    return precision, recall, f1"
   ]
  },
  {
   "cell_type": "markdown",
   "id": "5d0fdf97",
   "metadata": {},
   "source": [
    "## Using different classifiers\n",
    "\n",
    "Now that we have a way to analyse different classifiers and configurations, we can try out a few of the standard implementations from sklearn:"
   ]
  },
  {
   "cell_type": "code",
   "execution_count": 21,
   "id": "9897428c",
   "metadata": {},
   "outputs": [
    {
     "name": "stdout",
     "output_type": "stream",
     "text": [
      "Attributes: 10\n",
      "ROC AUC: 0.587\n",
      "Class metrics:\n",
      " - Class 1: Precision: 0.3 Recall: 0.57 F1: 0.39\n",
      " - Class 2: Precision: 0.47 Recall: 0.06 F1: 0.11\n",
      " - Class 3: Precision: 0.49 Recall: 0.59 F1: 0.54\n",
      " - Average: Precision: 0.42 Recall: 0.41 F1: 0.35\n"
     ]
    }
   ],
   "source": [
    "multinomial10 = classifier_metrics(MultinomialNB(), discrete, 'winner')"
   ]
  },
  {
   "cell_type": "code",
   "execution_count": 22,
   "id": "f5a7fe51",
   "metadata": {},
   "outputs": [
    {
     "name": "stdout",
     "output_type": "stream",
     "text": [
      "Attributes: 10\n",
      "ROC AUC: 0.6\n",
      "Class metrics:\n",
      " - Class 1: Precision: 0.25 Recall: 0.7 F1: 0.37\n",
      " - Class 2: Precision: 0.0 Recall: 0.0 F1: 0.0\n",
      " - Class 3: Precision: 0.92 Recall: 0.54 F1: 0.68\n",
      " - Average: Precision: 0.39 Recall: 0.42 F1: 0.35\n"
     ]
    }
   ],
   "source": [
    "bernoulli10 = classifier_metrics(BernoulliNB(), discrete, 'winner')"
   ]
  },
  {
   "cell_type": "code",
   "execution_count": 23,
   "id": "1719a721",
   "metadata": {},
   "outputs": [
    {
     "name": "stdout",
     "output_type": "stream",
     "text": [
      "Attributes: 10\n",
      "ROC AUC: 0.708\n",
      "Class metrics:\n",
      " - Class 1: Precision: 0.63 Recall: 0.6 F1: 0.62\n",
      " - Class 2: Precision: 0.11 Recall: 0.16 F1: 0.13\n",
      " - Class 3: Precision: 0.63 Recall: 0.65 F1: 0.64\n",
      " - Average: Precision: 0.46 Recall: 0.47 F1: 0.46\n"
     ]
    }
   ],
   "source": [
    "gaussian10 = classifier_metrics(GaussianNB(), discrete, 'winner')"
   ]
  },
  {
   "cell_type": "markdown",
   "id": "92a47577",
   "metadata": {},
   "source": [
    "As can be seen from the metrics above, Gaussian performs the best of the three implementations with a ROC AUC of 0.708 and an F1 score of 0.46.  This make sense as the distribution of most of our data, such as player scores and game duration, is gaussian.\n",
    "\n",
    "## Attribute selection\n",
    "\n",
    "### 5 Attributes\n",
    "\n",
    "Selecting the 5 attributes that correlate best with the class, we can pass the method an array to specify which columns we'd like to use for the classification:"
   ]
  },
  {
   "cell_type": "code",
   "execution_count": 24,
   "id": "402b6118",
   "metadata": {
    "scrolled": true
   },
   "outputs": [
    {
     "name": "stdout",
     "output_type": "stream",
     "text": [
      "Attributes: 5\n",
      "ROC AUC: 0.705\n",
      "Class metrics:\n",
      " - Class 1: Precision: 0.62 Recall: 0.61 F1: 0.61\n",
      " - Class 2: Precision: 0.09 Recall: 0.23 F1: 0.13\n",
      " - Class 3: Precision: 0.67 Recall: 0.64 F1: 0.65\n",
      " - Average: Precision: 0.46 Recall: 0.49 F1: 0.47\n"
     ]
    }
   ],
   "source": [
    "gaussian5 = classifier_metrics(GaussianNB(), discrete, 'winner',\n",
    "    ['white_rating', 'black_rating', 'rating_delta', 'turns', 'opening_ply']\n",
    ")"
   ]
  },
  {
   "cell_type": "markdown",
   "id": "4fb64006",
   "metadata": {},
   "source": [
    "By reducing the attributes from 10 to 5, the recall has gone up by .02 and the F1 score has gone up by .01.  Removing data such as time and increment reduced the noise to allow for a slightly more accurate model.\n",
    "\n",
    "### 3 Attributes\n",
    "\n",
    "Now we can try removing white_rating and black_rating:"
   ]
  },
  {
   "cell_type": "code",
   "execution_count": 25,
   "id": "88a3a685",
   "metadata": {
    "scrolled": true
   },
   "outputs": [
    {
     "name": "stdout",
     "output_type": "stream",
     "text": [
      "Attributes: 3\n",
      "ROC AUC: 0.707\n",
      "Class metrics:\n",
      " - Class 1: Precision: 0.62 Recall: 0.61 F1: 0.61\n",
      " - Class 2: Precision: 0.08 Recall: 0.22 F1: 0.12\n",
      " - Class 3: Precision: 0.67 Recall: 0.64 F1: 0.66\n",
      " - Average: Precision: 0.46 Recall: 0.49 F1: 0.46\n"
     ]
    }
   ],
   "source": [
    "gaussian3 = classifier_metrics(GaussianNB(), discrete, 'winner',\n",
    "    ['rating_delta', 'turns', 'opening_ply']\n",
    ")"
   ]
  },
  {
   "cell_type": "markdown",
   "id": "b1de1716",
   "metadata": {},
   "source": [
    "Because rating_delta already represents the main effect of player skill (how much better one player is than the other), removing white_rating and black_rating has almost no effect.  The F1 score decreased by .01 and the ROC increased by .002.\n",
    "\n",
    "### 2 Attributes - A\n",
    "\n",
    "Finally, we can try using only rating_delta and opening_ply attribute to classify the data:"
   ]
  },
  {
   "cell_type": "code",
   "execution_count": 26,
   "id": "c5c7b293",
   "metadata": {
    "scrolled": true
   },
   "outputs": [
    {
     "name": "stdout",
     "output_type": "stream",
     "text": [
      "Attributes: 2\n",
      "ROC AUC: 0.653\n",
      "Class metrics:\n",
      " - Class 1: Precision: 0.66 Recall: 0.6 F1: 0.62\n",
      " - Class 2: Precision: 0.0 Recall: 0.06 F1: 0.0\n",
      " - Class 3: Precision: 0.64 Recall: 0.64 F1: 0.64\n",
      " - Average: Precision: 0.43 Recall: 0.43 F1: 0.42\n"
     ]
    }
   ],
   "source": [
    "gaussian2A = classifier_metrics(GaussianNB(), discrete, 'winner',\n",
    "    ['rating_delta', 'opening_ply']\n",
    ")"
   ]
  },
  {
   "cell_type": "markdown",
   "id": "82040351",
   "metadata": {},
   "source": [
    "Although this results in a significant decrease in the overall accuracy, the class-specific metrics reveal more:\n",
    "\n",
    " - Class 1 (White win) becomes slightly more accurate with a .02 increase in F1 score.\n",
    " - Class 3 (Black win) becomes slightly less accurate with a .02 decrease in F1 score.\n",
    " - Class 2 (Draw) now has a precision and F1 score of 0.\n",
    " \n",
    "This seems to indicate that, although turns has little effect on predicting either winner, the attribute is very useful for predicting draws.  This makes sense when you consider the ways players can draw:\n",
    "\n",
    " - Mutual agreement to draw often happens when a game has gone on long and both players are tired.\n",
    " - Stalemate can only happen when there are no legal moves left and therefore only occur when there are few pieces left.\n",
    " - Dead position, like stalemate, only occurs with few remaining pieces.\n",
    " - Threefold repetition allows a player to force a draw when the same board position has been observed three times.\n",
    " - The fifty-move rule allows a player to force a draw if no pieces have been captured or pawns moves in fifty moves.\n",
    " \n",
    "All of these methods of drawing encourage a positive correlation between the turns a game took and the likelihood it was a draw.\n",
    "\n",
    "### 2 Attributes - B\n",
    "\n",
    "Replacing opening_ply for turns, we get the following metrics:"
   ]
  },
  {
   "cell_type": "code",
   "execution_count": 27,
   "id": "6f21b86e",
   "metadata": {},
   "outputs": [
    {
     "name": "stdout",
     "output_type": "stream",
     "text": [
      "Attributes: 2\n",
      "ROC AUC: 0.707\n",
      "Class metrics:\n",
      " - Class 1: Precision: 0.62 Recall: 0.61 F1: 0.61\n",
      " - Class 2: Precision: 0.08 Recall: 0.23 F1: 0.12\n",
      " - Class 3: Precision: 0.67 Recall: 0.64 F1: 0.65\n",
      " - Average: Precision: 0.46 Recall: 0.49 F1: 0.46\n"
     ]
    }
   ],
   "source": [
    "gaussian2B = classifier_metrics(GaussianNB(), discrete, 'winner',\n",
    "    ['rating_delta', 'turns']\n",
    ")"
   ]
  },
  {
   "cell_type": "markdown",
   "id": "3f09b1d5",
   "metadata": {},
   "source": [
    "This is much better than before and yields better overall accuracy as the classification using all 10 attributes.\n",
    "\n",
    "### Attribute selection summary\n",
    "\n",
    "Graphing the different metrics against how many attributes were used, we can see this curve:"
   ]
  },
  {
   "cell_type": "code",
   "execution_count": 28,
   "id": "0b916c4f",
   "metadata": {},
   "outputs": [
    {
     "name": "stdout",
     "output_type": "stream",
     "text": [
      "Attributes: 7\n",
      "ROC AUC: 0.712\n",
      "Class metrics:\n",
      " - Class 1: Precision: 0.62 Recall: 0.61 F1: 0.61\n",
      " - Class 2: Precision: 0.1 Recall: 0.23 F1: 0.13\n",
      " - Class 3: Precision: 0.67 Recall: 0.64 F1: 0.65\n",
      " - Average: Precision: 0.46 Recall: 0.49 F1: 0.47\n"
     ]
    },
    {
     "data": {
      "image/png": "[encoded data removed]",
      "text/plain": [
       "<Figure size 432x288 with 1 Axes>"
      ]
     },
     "metadata": {
      "needs_background": "light"
     },
     "output_type": "display_data"
    },
    {
     "data": {
      "image/png": "[encoded data removed]",
      "text/plain": [
       "<Figure size 432x288 with 1 Axes>"
      ]
     },
     "metadata": {
      "needs_background": "light"
     },
     "output_type": "display_data"
    }
   ],
   "source": [
    "\n",
    "def plot_points(points):\n",
    "    \n",
    "    # Separate attributes\n",
    "    a, p, r, f, o = [], [], [], [], []\n",
    "    for i in range(len(points)):\n",
    "        a.append(points[i][0])\n",
    "        p.append(points[i][1])\n",
    "        r.append(points[i][2])\n",
    "        f.append(points[i][3])\n",
    "        o.append(points[i][4])\n",
    "    \n",
    "    # Precision, recall and F1\n",
    "    plt.plot(a, p, label = \"Precision\")\n",
    "    plt.plot(a, r, label = \"Recall\")\n",
    "    plt.plot(a, f, label = \"F1 score\")\n",
    "    plt.title('Attributes and accuracy')\n",
    "    plt.xlabel('Attributes')\n",
    "    plt.ylabel('F1 score')\n",
    "    plt.legend()\n",
    "    plt.show()\n",
    "    \n",
    "    # ROC AUC\n",
    "    plt.plot(a, o)\n",
    "    plt.title('Attributes and ROC AUC')\n",
    "    plt.xlabel('Attributes')\n",
    "    plt.ylabel('ROC AUC')\n",
    "    plt.show()\n",
    "\n",
    "# Extra 7-attribute datapoint for more continuous line\n",
    "gaussian7 = classifier_metrics(GaussianNB(), discrete, 'winner',\n",
    "    ['white_rating', 'black_rating', 'rating_delta', 'turns', 'opening_ply', 'eco', 'max_duration']\n",
    ")\n",
    "\n",
    "# Plot the line graphs\n",
    "plot_points([gaussian10, gaussian7, gaussian5, gaussian3, gaussian2B])"
   ]
  },
  {
   "cell_type": "markdown",
   "id": "d079620c",
   "metadata": {},
   "source": [
    "## Additional observations\n",
    "\n",
    "### Base ratings vs delta rating\n",
    "\n",
    "Because delta_rating can be inferred from white_rating and black_rating, I had assumed it wouldn't provide any value to the classifier's output.  However, as can be seen below, switching these attributes for delta_rating actually improves the classifier's accuracy:"
   ]
  },
  {
   "cell_type": "code",
   "execution_count": 29,
   "id": "d0ad1ff6",
   "metadata": {},
   "outputs": [
    {
     "name": "stdout",
     "output_type": "stream",
     "text": [
      "Attributes: 3\n",
      "ROC AUC: 0.685\n",
      "Class metrics:\n",
      " - Class 1: Precision: 0.44 Recall: 0.61 F1: 0.52\n",
      " - Class 2: Precision: 0.09 Recall: 0.21 F1: 0.13\n",
      " - Class 3: Precision: 0.77 Recall: 0.59 F1: 0.67\n",
      " - Average: Precision: 0.44 Recall: 0.47 F1: 0.44\n"
     ]
    }
   ],
   "source": [
    "o = classifier_metrics(GaussianNB(), discrete, 'winner',\n",
    "    ['white_rating', 'black_rating', 'turns']\n",
    ")"
   ]
  },
  {
   "cell_type": "code",
   "execution_count": 30,
   "id": "c5e0d31b",
   "metadata": {},
   "outputs": [
    {
     "name": "stdout",
     "output_type": "stream",
     "text": [
      "Attributes: 2\n",
      "ROC AUC: 0.707\n",
      "Class metrics:\n",
      " - Class 1: Precision: 0.62 Recall: 0.61 F1: 0.61\n",
      " - Class 2: Precision: 0.08 Recall: 0.23 F1: 0.12\n",
      " - Class 3: Precision: 0.67 Recall: 0.64 F1: 0.65\n",
      " - Average: Precision: 0.46 Recall: 0.49 F1: 0.46\n"
     ]
    }
   ],
   "source": [
    "o = classifier_metrics(GaussianNB(), discrete, 'winner',\n",
    "    ['rating_delta', 'turns']\n",
    ")"
   ]
  },
  {
   "cell_type": "markdown",
   "id": "ff255634",
   "metadata": {},
   "source": [
    "Improving the precision, recall and f1 score by 0.02 each, delta_rating provides better results than its component attributes - for Naive Bayes at least.  This is likely because the difference between players' skill is more important than the two evaluated separately.\n",
    "\n",
    "Although this improves the output for Naive Bayes classification, I am unsure that it will help when using more advanced techniques that allow for a deeper understanding of complex relationships.\n",
    "\n",
    "### Using turns to classify data\n"
   ]
  },
  {
   "cell_type": "code",
   "execution_count": 31,
   "id": "8b713fe2",
   "metadata": {},
   "outputs": [
    {
     "name": "stdout",
     "output_type": "stream",
     "text": [
      "Attributes: 1\n",
      "ROC AUC: 0.589\n",
      "Class metrics:\n",
      " - Class 1: Precision: 0.14 Recall: 0.43 F1: 0.21\n",
      " - Class 2: Precision: 0.08 Recall: 0.21 F1: 0.12\n",
      " - Class 3: Precision: 0.86 Recall: 0.51 F1: 0.64\n",
      " - Average: Precision: 0.36 Recall: 0.39 F1: 0.32\n"
     ]
    }
   ],
   "source": [
    "o = classifier_metrics(GaussianNB(), discrete, 'winner',\n",
    "    ['turns']\n",
    ")"
   ]
  },
  {
   "cell_type": "markdown",
   "id": "0a21b43e",
   "metadata": {},
   "source": [
    "Using only the turns attribute to classify the data does not yield good results.  On average, it gives lower precision, recall and F1 score than any of the other configurations.  However, one metric is surprisingly high.\n",
    "\n",
    "For class 3 (Black win), the precision for classification using only the turns attribute is higher than any other configuration.  This means that, if this model predicts a black win, it is likely to be true.\n",
    "\n",
    "I believe what the classifier may be seeing in the data is a high correlation between zero-turn games and the white player timing out.  Because matchmaking can sometimes take a long time on lichess, players may be disconnecting or leaving before a game begins, resulting in a zero-turn game where white forfeits by time-out.\n",
    "\n",
    "## Enhancing the data further\n",
    "\n",
    "The opening codes used up until now cover a wide range very specific opening sequences, many of which are rarely or never seen.\n",
    "\n",
    "For instance, here are three variations of the Queen's Gambit Declined, Slav defence:\n",
    "\n",
    " - D17 Czech defence:   d4 d5 2. c4 c6 3. Nf3 Nf6 4. Nc3 dxc4 5. a4 Bf5\n",
    " - D18 Dutch variation: d4 d5 2. c4 c6 3. Nf3 Nf6 4. Nc3 dxc4 5. a4 Bf5 6. e3\n",
    " - D19 Dutch variation: d4 d5 2. c4 c6 3. Nf3 Nf6 4. Nc3 dxc4 5. a4 Bf5 6. e3 e6 7. Bxc4 Bb4 8. O-O\n",
    "\n",
    "We can see that these openings are very similar as they only diverge after the 5th move.  However, the classifier can only see them as entirely separate, discrete openings.  In a perfect world, there would be enough instances for the classifier to learn their similarity but, as many of these openings only occur a few times, the classifier often doesn't make the connection.\n",
    "\n",
    "What can be done to help this issue is to add another column with a more general opening code.  Hopefully this will allow the classifier to draw conclusions from the general opening if the specific one hasn't seen many instances.  I have copied opening data from https://www.365chess.com/eco.php and put it into a data file that can be read by this function:"
   ]
  },
  {
   "cell_type": "code",
   "execution_count": 32,
   "id": "bccbbc06",
   "metadata": {},
   "outputs": [],
   "source": [
    "def range_codes(range_code):\n",
    "    \"\"\"\n",
    "    Convert a range code to set of individual codes\n",
    "    For example:\n",
    "        'A53' - > {'A53'}\n",
    "        'A53-A55' - > {'A53', 'A54', 'A55'}\n",
    "    \"\"\"\n",
    "    min_max = range_code.split(\"-\")\n",
    "    if len(min_max) == 1:\n",
    "        return {range_code}\n",
    "    \n",
    "    elif len(min_max) == 2:\n",
    "        letter = min_max[0][:1]\n",
    "        min, max = int(min_max[0][1:]), int(min_max[1][1:])\n",
    "        return { letter + f\"{i:02d}\" for i in range(min, max+1) }\n",
    "    \n",
    "    else:\n",
    "        raise Exception(\"malformed range code\")\n",
    "\n",
    "def group_opening_codes(data, conversion_file):\n",
    "    \n",
    "    # Read conversion file\n",
    "    opening_conversions = open('./data/opening_data.txt', 'r').read().splitlines()\n",
    "    \n",
    "    # Generate conversion map from file data\n",
    "    conversion_map = {}\n",
    "    for conversion in opening_conversions:\n",
    "        split = conversion.split(\" \", 1)\n",
    "        range, name = split[0], split[1]\n",
    "        \n",
    "        for code in range_codes(range):\n",
    "            conversion_map[code] = name\n",
    "    \n",
    "    # Add grouped column\n",
    "    enhanced = data.copy()\n",
    "    enhanced[\"grouped_eco\"] = enhanced[\"eco\"].apply( lambda code : conversion_map[code] )\n",
    "    \n",
    "    return enhanced\n",
    "    \n",
    "# Add new grouped_eco column\n",
    "grouped = group_opening_codes( data, \"./data/opening_data.txt\" )\n",
    "\n",
    "# Discretise and numberise data for bayes net\n",
    "num_grouped = numberise(\n",
    "    discretise(grouped),\n",
    "    {'rated', 'status', 'white_rating', 'black_rating', 'rating_delta', 'eco', 'max_duration', 'grouped_eco'}\n",
    ")"
   ]
  },
  {
   "cell_type": "markdown",
   "id": "2e689d28",
   "metadata": {},
   "source": [
    "Now that the new column for a more general opening code has been added to the dataframe, we can run the bayes net again and hopefully see a classification accuracy improvement:"
   ]
  },
  {
   "cell_type": "code",
   "execution_count": 33,
   "id": "25e32c5b",
   "metadata": {},
   "outputs": [
    {
     "name": "stdout",
     "output_type": "stream",
     "text": [
      "Attributes: 1\n",
      "ROC AUC: 0.517\n",
      "Class metrics:\n",
      " - Class 1: Precision: 0.07 Recall: 0.48 F1: 0.13\n",
      " - Class 2: Precision: 0.0 Recall: 0.0 F1: 0.0\n",
      " - Class 3: Precision: 0.93 Recall: 0.5 F1: 0.65\n",
      " - Average: Precision: 0.34 Recall: 0.33 F1: 0.26\n"
     ]
    }
   ],
   "source": [
    "a = classifier_metrics(GaussianNB(), num_grouped, 'winner',\n",
    "    ['eco']\n",
    ")"
   ]
  },
  {
   "cell_type": "code",
   "execution_count": 34,
   "id": "3241efbc",
   "metadata": {},
   "outputs": [
    {
     "name": "stdout",
     "output_type": "stream",
     "text": [
      "Attributes: 1\n",
      "ROC AUC: 0.51\n",
      "Class metrics:\n",
      " - Class 1: Precision: 0.0 Recall: 0.0 F1: 0.0\n",
      " - Class 2: Precision: 0.0 Recall: 0.0 F1: 0.0\n",
      " - Class 3: Precision: 1.0 Recall: 0.5 F1: 0.67\n",
      " - Average: Precision: 0.33 Recall: 0.17 F1: 0.22\n"
     ]
    }
   ],
   "source": [
    "b = classifier_metrics(GaussianNB(), num_grouped, 'winner',\n",
    "    ['grouped_eco']\n",
    ")"
   ]
  },
  {
   "cell_type": "markdown",
   "id": "9f8f3889",
   "metadata": {},
   "source": [
    "Using the grouped eco seems to do worse when used on its own.  Hopefully further analysis using Neural Networks later on will find the additional attribute advantageous.\n",
    "\n",
    "## Linear regression"
   ]
  },
  {
   "cell_type": "code",
   "execution_count": 35,
   "id": "002a287a",
   "metadata": {},
   "outputs": [],
   "source": [
    "transformed = numberise(\n",
    "    data,\n",
    "    {'rated', 'eco', 'max_duration'}\n",
    ")"
   ]
  },
  {
   "cell_type": "code",
   "execution_count": 36,
   "id": "05af677a",
   "metadata": {},
   "outputs": [
    {
     "name": "stdout",
     "output_type": "stream",
     "text": [
      "=== class: max_duration ===\n",
      "LinearRegression: mean error: 333.80, accuracy: 65%\n",
      "Lasso: mean error: 332.97, accuracy: 65%\n",
      "DecisionTreeRegressor: mean error: 35.47, accuracy: 96%\n",
      "RandomForestRegressor: mean error: 23.97, accuracy: 97%\n",
      "\n",
      "=== class: winner ===\n",
      "LinearRegression: mean error: 0.91, accuracy: 9%\n",
      "Lasso: mean error: 0.98, accuracy: 2%\n",
      "DecisionTreeRegressor: mean error: 1.08, accuracy: -8%\n",
      "RandomForestRegressor: mean error: 0.80, accuracy: 19%\n",
      "\n"
     ]
    }
   ],
   "source": [
    "from sklearn.preprocessing import MinMaxScaler\n",
    "\n",
    "from sklearn.model_selection import cross_val_score\n",
    "\n",
    "from sklearn.linear_model import LinearRegression, Lasso\n",
    "from sklearn.tree import DecisionTreeRegressor\n",
    "from sklearn.ensemble import RandomForestRegressor\n",
    "from sklearn.svm import SVR\n",
    "\n",
    "def classifier_score(classifier, data, class_name, attributes=None):\n",
    "    \n",
    "    # Optionally get subset of attributes for attributes selection\n",
    "    if attributes != None:\n",
    "        if class_name not in attributes:\n",
    "            attributes.append(class_name)\n",
    "        data = data[attributes]\n",
    "    \n",
    "    # Separate model data from output\n",
    "    model = data.drop([class_name], axis=1)\n",
    "    output = data[class_name]\n",
    "    \n",
    "    # Scale model\n",
    "    scaling = MinMaxScaler(feature_range=(-1,1)).fit(model)\n",
    "    model = scaling.transform(model)\n",
    "    \n",
    "    # Get score\n",
    "    scores = cross_val_score(classifier,\n",
    "        model, output,\n",
    "        scoring=\"neg_mean_squared_error\", cv=3)\n",
    "    scores = np.sqrt(-scores)\n",
    "    mean = scores.mean()\n",
    "    \n",
    "    # Derive accuracy from error and value range\n",
    "    max_mean = ( data[class_name].max() - data[class_name].min() ) / 2\n",
    "    accuracy = int( (max_mean-mean) / max_mean * 100 )\n",
    "    \n",
    "    classifier_name = str(classifier).split(\"(\")[0]\n",
    "    print( f\"{classifier_name}: mean error: {mean:.2f}, accuracy: {accuracy}%\" )\n",
    "    return accuracy \n",
    "\n",
    "def classifier_scores(classifiers, data, class_name, attributes=None):\n",
    "    print(f\"=== class: {class_name} ===\")\n",
    "    out = []\n",
    "    for classifier in classifiers:\n",
    "        out.append( classifier_score(classifier, data, class_name, attributes) )\n",
    "    print()\n",
    "    return out\n",
    "\n",
    "classifiers = [\n",
    "    LinearRegression(),\n",
    "    Lasso(),\n",
    "    DecisionTreeRegressor(random_state=42),\n",
    "    RandomForestRegressor(random_state=42),\n",
    "    # SVR(kernel=\"linear\") # This take far too long and doesn't gove great results\n",
    "]\n",
    "\n",
    "ratings_removed = [\n",
    "    \"rated\", \"winner\", \"rating_delta\", \"eco\", \"opening_ply\",\n",
    "    \"turns\", \"time\", \"increment\", \"max_duration\"\n",
    "]\n",
    "\n",
    "#classes = [\"winner\", \"rating_delta\", \"opening_ply\", \"turns\", \"time\", \"increment\", \"max_duration\"]\n",
    "classes = [\"max_duration\", \"winner\"]\n",
    "\n",
    "scores = []\n",
    "for c in classes:\n",
    "    scores.append( classifier_scores(classifiers, transformed, c, ratings_removed) )"
   ]
  },
  {
   "cell_type": "code",
   "execution_count": 37,
   "id": "1d1a7953",
   "metadata": {},
   "outputs": [],
   "source": [
    "s = scores.copy()"
   ]
  },
  {
   "cell_type": "code",
   "execution_count": 38,
   "id": "398595a8",
   "metadata": {},
   "outputs": [
    {
     "data": {
      "image/png": "[encoded data removed]",
      "text/plain": [
       "<Figure size 720x432 with 1 Axes>"
      ]
     },
     "metadata": {
      "needs_background": "light"
     },
     "output_type": "display_data"
    }
   ],
   "source": [
    "# Plot accuracy relative to average across classifers\n",
    "for i in range(len(s)):\n",
    "    mean = np.mean(s[i])\n",
    "    s[i] = [x-mean for x in s[i]]\n",
    "\n",
    "# Create plot axes\n",
    "sT = np.array(s).T.tolist()\n",
    "y = [i+1 for i in range(len(sT[0]))]\n",
    "\n",
    "# Baseline\n",
    "baseline = [0 for i in range(len(sT[0]))]\n",
    "plt.figure(figsize=(10, 6))\n",
    "plt.plot(y, baseline, '--', label=\"Average\", color=\"darkgrey\")\n",
    "\n",
    "# Plot graph\n",
    "classifer_names = [str(x).split(\"(\")[0] for x in classifiers]\n",
    "for i in range(len(classifer_names)):\n",
    "    plt.plot(y, sT[i], label=classifer_names[i])\n",
    "plt.ylabel(\"accuracy\")\n",
    "plt.xlabel(\"class\")\n",
    "plt.legend()\n",
    "plt.show()"
   ]
  },
  {
   "cell_type": "markdown",
   "id": "10575187",
   "metadata": {},
   "source": [
    "## Clustering\n",
    "\n",
    "To analyse our data without supervision, we can use clustering.  Firstly, the data must be normalised:"
   ]
  },
  {
   "cell_type": "code",
   "execution_count": 39,
   "id": "cb427ed6",
   "metadata": {},
   "outputs": [],
   "source": [
    "# Normalise dataframe (adapted from https://stackoverflow.com/a/41532180)\n",
    "def normalise(data):\n",
    "    return (data-data.min()) / (data.max()-data.min())\n",
    "\n",
    "# Create subset of data for clustering\n",
    "cdata1 = normalise(data[[\"rating_delta\", \"opening_ply\"]])\n",
    "cdata2 = normalise(data[[\"turns\", \"time\"]])\n",
    "cdata3 = normalise(data[[\"white_rating\", \"increment\"]])\n",
    "cdata4 = normalise(data[[\"time\", \"winner\"]])"
   ]
  },
  {
   "cell_type": "markdown",
   "id": "9e1553e5",
   "metadata": {},
   "source": [
    "This dataset doesn't lend itself particularly well to clustering, but there are a few patterns that can be seen in some columns:"
   ]
  },
  {
   "cell_type": "code",
   "execution_count": 40,
   "id": "1055c572",
   "metadata": {},
   "outputs": [
    {
     "data": {
      "image/png": "[encoded data removed]",
      "text/plain": [
       "<Figure size 1080x216 with 2 Axes>"
      ]
     },
     "metadata": {
      "needs_background": "light"
     },
     "output_type": "display_data"
    },
    {
     "data": {
      "image/png": "[encoded data removed]",
      "text/plain": [
       "<Figure size 1080x216 with 2 Axes>"
      ]
     },
     "metadata": {
      "needs_background": "light"
     },
     "output_type": "display_data"
    }
   ],
   "source": [
    "from matplotlib.pyplot import figure\n",
    "\n",
    "# Plot normalised data\n",
    "figure(figsize=(15, 3))\n",
    "plt.subplot(1, 2, 1)\n",
    "plt.scatter(cdata1.iloc[:,[0]], cdata1.iloc[:,[1]], alpha=0.25, s=10)\n",
    "plt.subplot(1, 2, 2)\n",
    "plt.scatter(cdata2.iloc[:,[0]], cdata2.iloc[:,[1]], alpha=0.25, s=10)\n",
    "plt.show()\n",
    "figure(figsize=(15, 3))\n",
    "plt.subplot(1, 2, 1)\n",
    "plt.scatter(cdata3.iloc[:,[0]], cdata3.iloc[:,[1]], alpha=0.25, s=10)\n",
    "plt.subplot(1, 2, 2)\n",
    "plt.scatter(cdata4.iloc[:,[0]], cdata4.iloc[:,[1]], alpha=0.25, s=10)\n",
    "plt.show()\n",
    "\n",
    "# cdata4 is most clustered\n",
    "cdata = cdata4"
   ]
  },
  {
   "cell_type": "markdown",
   "id": "f901a62a",
   "metadata": {},
   "source": [
    "Using the columns 'time' and 'winner', three horizontal clusters can be seen.  These clusters lean mostly to the left but extend all the way to the right of the graph.  No instances are seen in the middle of the plot which suggests that games with medium time constraints almost never draw.\n",
    "\n",
    "One reason this may be the case is that fast games more often lead to accidental stalemates and slow games result in bored players mutually agreeing to stop, but moderately-paced games have less reason to draw.\n",
    "\n",
    "### KMeans\n",
    "\n",
    "KMeans clustering iteratively chooseses random centroids for the clusters and converges them using the mean point of all member instances.  By iteratively selecting and converging random selections over many iterations, KMeans often finds good results in spherically-clustered data.\n",
    "\n",
    "Using the following code, we can see the rough regions decided for the clustering of data:"
   ]
  },
  {
   "cell_type": "code",
   "execution_count": 41,
   "id": "a369cb37",
   "metadata": {},
   "outputs": [],
   "source": [
    "# Code from tutorial 4\n",
    "\n",
    "def plot_data(X):\n",
    "    plt.plot(X.iloc[:,[0]], X.iloc[:,[1]], 'k.', markersize=2)\n",
    "\n",
    "def plot_centroids(centroids, weights=None, circle_color='w', cross_color='k'):\n",
    "    if weights is not None:\n",
    "        centroids = centroids[weights > weights.max() / 10]\n",
    "    plt.scatter(centroids[:, 0], centroids[:, 1],\n",
    "                marker='o', s=30, linewidths=8,\n",
    "                color=circle_color, zorder=10, alpha=1)\n",
    "    plt.scatter(centroids[:, 0], centroids[:, 1],\n",
    "                marker='x', s=1, linewidths=10,\n",
    "                color=cross_color, zorder=11, alpha=1)\n",
    "\n",
    "def plot_decision_boundaries(clusterer, X, resolution=1000, show_centroids=True,\n",
    "                             show_xlabels=True, show_ylabels=True):\n",
    "    mins = X.min(axis=0) - 0.1\n",
    "    maxs = X.max(axis=0) + 0.1\n",
    "    xx, yy = np.meshgrid(np.linspace(mins[0], maxs[0], resolution),\n",
    "                         np.linspace(mins[1], maxs[1], resolution))\n",
    "    Z = clusterer.predict(np.c_[xx.ravel(), yy.ravel()])\n",
    "    Z = Z.reshape(xx.shape)\n",
    "\n",
    "    plt.contourf(Z, extent=(mins[0], maxs[0], mins[1], maxs[1]),\n",
    "                cmap=\"Pastel2\")\n",
    "    plt.contour(Z, extent=(mins[0], maxs[0], mins[1], maxs[1]),\n",
    "                linewidths=1, colors='k')\n",
    "    plot_data(X)\n",
    "    if show_centroids:\n",
    "        plot_centroids(clusterer.cluster_centers_)\n",
    "\n",
    "    if show_xlabels:\n",
    "        plt.xlabel(\"$x_1$\", fontsize=14)\n",
    "    else:\n",
    "        plt.tick_params(labelbottom=False)\n",
    "    if show_ylabels:\n",
    "        plt.ylabel(\"$x_2$\", fontsize=14, rotation=0)\n",
    "    else:\n",
    "        plt.tick_params(labelleft=False)"
   ]
  },
  {
   "cell_type": "markdown",
   "id": "499e7264",
   "metadata": {},
   "source": [
    "Using a KMeans clustering algorithm, we can see where the best locations are for the centroids of varying cluster counts:"
   ]
  },
  {
   "cell_type": "code",
   "execution_count": 42,
   "id": "befef0c4",
   "metadata": {},
   "outputs": [
    {
     "data": {
      "image/png": "[encoded data removed]",
      "text/plain": [
       "<Figure size 1080x216 with 3 Axes>"
      ]
     },
     "metadata": {
      "needs_background": "light"
     },
     "output_type": "display_data"
    }
   ],
   "source": [
    "from sklearn.cluster import KMeans\n",
    "\n",
    "figure(figsize=(15, 3))\n",
    "plt.subplot(1, 3, 1)\n",
    "kmeans = KMeans(n_clusters=2, random_state=42)\n",
    "kmeans.fit(cdata)\n",
    "plot_decision_boundaries(kmeans, cdata)\n",
    "\n",
    "plt.subplot(1, 3, 2)\n",
    "kmeans = KMeans(n_clusters=3, random_state=42)\n",
    "kmeans.fit(cdata)\n",
    "plot_decision_boundaries(kmeans, cdata)\n",
    "\n",
    "plt.subplot(1, 3, 3)\n",
    "kmeans = KMeans(n_clusters=4, random_state=42)\n",
    "kmeans.fit(cdata)\n",
    "plot_decision_boundaries(kmeans, cdata)\n",
    "\n",
    "plt.show()"
   ]
  },
  {
   "cell_type": "markdown",
   "id": "037f31fe",
   "metadata": {},
   "source": [
    "### Finding the best number of clusters\n",
    "\n",
    "Although three clusters seems to be the most intuitive way of clustering this data, it would be useful to have a more objective measure.  One such measure is the negative inertia.\n",
    "\n",
    "Inertia is the total distance between each instance and its cluster centre.  By using this as to refine cluster amounts, we can end up with very tightly grouped clusters.  The issue with this, however, is that more clusters always means a higher score; this would be one cluster for every single instance.\n",
    "\n",
    "One solution to this issue is to look at the 'elbow' of the scores, plotted against the number of clusters.  By finding the point along the line where more clusters have significantly diminishing returns, you can find the optimal number of clusters.\n",
    "\n",
    "Another measurement that can be used to evaluate clustering is by using the silhouette coefficient.  This uses the average inter-cluster and intra-cluster distances to evaluate how distinct the clusters are from each other.  Alongside being more objective than picking an 'elbow', this algorithm works on all clustering algorithms."
   ]
  },
  {
   "cell_type": "code",
   "execution_count": 43,
   "id": "b293248f",
   "metadata": {},
   "outputs": [],
   "source": [
    "import time\n",
    "from sklearn.metrics import silhouette_score\n",
    "\n",
    "colourMap = [\"red\", \"green\", \"blue\", \"magenta\", \"cyan\", \"yellow\"]\n",
    "\n",
    "def plotClusters(clusterer, X):\n",
    "    y_pred = clusterer.fit_predict(X)\n",
    "    colours = [colourMap[i] for i in y_pred]\n",
    "    plt.scatter(X.iloc[:,[0]], X.iloc[:,[1]], alpha=1, s=8, c=colours)\n",
    "    return\n",
    "\n",
    "def basicScore(X, clusterer):\n",
    "    clusterer.fit(X)\n",
    "    return clusterer.score(X)\n",
    "\n",
    "def silhouetteScore(X, clusterer):\n",
    "    labels = clusterer.fit_predict(X)\n",
    "    return silhouette_score(X, labels)\n",
    "\n",
    "cluster_range = range(2,6+1) # try 2, 3 and 4 clusters\n",
    "\n",
    "def plotClusterScores(X, clusterer, elbowClusters, peakClusters):\n",
    "    \n",
    "    clusterers = [clusterer(i) for i in cluster_range]\n",
    "    start = time.time()\n",
    "    basicScores = [ basicScore(X, clusterer) for clusterer in clusterers ]\n",
    "    duration = time.time() - start\n",
    "    silhouetteScores = [ silhouetteScore(X, clusterer) for clusterer in clusterers ]\n",
    "    \n",
    "    figure(figsize=(15, 3))\n",
    "    plt.subplot(1, 3, 1)\n",
    "    plt.plot(cluster_range, basicScores, \"bo-\")\n",
    "    plt.ylabel(\"score\")\n",
    "    plt.xlabel(\"clusters\")\n",
    "    \n",
    "    \"\"\"plt.annotate(\n",
    "        'Elbow',\n",
    "         xy=(elbowClusters, basicScores[elbowClusters-cluster_range[0]]),\n",
    "         xytext=(0.2, 0.5),\n",
    "         textcoords='figure fraction',\n",
    "         fontsize=16,\n",
    "         arrowprops=dict(facecolor='black', shrink=0.1)\n",
    "    )\"\"\"\n",
    "    \n",
    "    plt.subplot(1, 3, 2)\n",
    "    plt.plot(cluster_range, silhouetteScores, \"bo-\")\n",
    "    plt.ylabel(\"silhouette score\")\n",
    "    plt.xlabel(\"clusters\")\n",
    "    \n",
    "    plt.subplot(1, 3, 3)\n",
    "    plotClusters(clusterer(peakClusters), X)\n",
    "    plt.show()\n",
    "    print(f\"Took {duration:.3} seconds\")"
   ]
  },
  {
   "cell_type": "code",
   "execution_count": 44,
   "id": "0ab06e1a",
   "metadata": {},
   "outputs": [
    {
     "data": {
      "image/png": "[encoded data removed]",
      "text/plain": [
       "<Figure size 1080x216 with 3 Axes>"
      ]
     },
     "metadata": {
      "needs_background": "light"
     },
     "output_type": "display_data"
    },
    {
     "name": "stdout",
     "output_type": "stream",
     "text": [
      "Took 0.43 seconds\n"
     ]
    }
   ],
   "source": [
    "kmeans = lambda n: KMeans(n_clusters=n, random_state=42)\n",
    "plotClusterScores(cdata, kmeans, 3, 5)"
   ]
  },
  {
   "cell_type": "code",
   "execution_count": 45,
   "id": "c42172c2",
   "metadata": {},
   "outputs": [
    {
     "data": {
      "image/png": "[encoded data removed]",
      "text/plain": [
       "<Figure size 1080x216 with 3 Axes>"
      ]
     },
     "metadata": {
      "needs_background": "light"
     },
     "output_type": "display_data"
    },
    {
     "name": "stdout",
     "output_type": "stream",
     "text": [
      "Took 0.216 seconds\n"
     ]
    }
   ],
   "source": [
    "from sklearn.cluster import MiniBatchKMeans\n",
    "\n",
    "minikmeans = lambda n: MiniBatchKMeans(n_clusters=n, random_state=42, batch_size=3072)\n",
    "plotClusterScores(cdata, minikmeans, 3, 5)"
   ]
  },
  {
   "cell_type": "markdown",
   "id": "78e2e7e4",
   "metadata": {},
   "source": [
    "As can be seen in the above diagrams, KMeans and its mini-batch equivalent have very similar scores and clustering results.  The inertia for both methods doesn't have a distinct elbow but the value of increased clusters begins to diminish at around 3 or 4.  The silhouette coefficients for each cluster clearly suggest that 5 clusters is the best and the configuration of those clusters are seen in the rightmost plots.\n",
    "\n",
    "In each of the 5-cluster configurations, the algorithm seems to group the high density areas on the left into 3 separate clusters, and uses 2 more clusters to represent the sparse areas on the right of the plot."
   ]
  },
  {
   "cell_type": "markdown",
   "id": "bc7e00eb",
   "metadata": {},
   "source": [
    "### Gaussian Mixture\n",
    "\n",
    "Gaussian Mixture is a probabilistic algorithm that works best on gaussian-distributed attributes.  The elbow of the scoring plot for this algorithm is slightly more defined, but not by much.  What does stand out is a significantly different plot for the silhouette scores for each additional cluster.\n",
    "\n",
    "The silhouette scoring for Gaussian Mixture suggests that the best number of clusters is 3.  This is much more in line with my initial assumptions and makes sense, given that the attributes do have a gaussian distribution.\n",
    "\n",
    "A reason gaussian yields more intuitive results may be because the algorithm can skew its cluster zones;  while KMeans must have spherical clustering influences, gaussian can stretch to have ovals or lines.  The skewed spheres explain why Gaussian is much better able to cluster the horizontal lines."
   ]
  },
  {
   "cell_type": "code",
   "execution_count": 46,
   "id": "6b2a4fde",
   "metadata": {},
   "outputs": [
    {
     "data": {
      "image/png": "[encoded data removed]",
      "text/plain": [
       "<Figure size 1080x216 with 3 Axes>"
      ]
     },
     "metadata": {
      "needs_background": "light"
     },
     "output_type": "display_data"
    },
    {
     "name": "stdout",
     "output_type": "stream",
     "text": [
      "Took 0.572 seconds\n"
     ]
    }
   ],
   "source": [
    "from sklearn.mixture import GaussianMixture\n",
    "\n",
    "gaussian = lambda n: GaussianMixture(n_components=n, random_state=42)\n",
    "plotClusterScores(cdata, gaussian, 3, 3)"
   ]
  },
  {
   "cell_type": "markdown",
   "id": "1eb1d052",
   "metadata": {},
   "source": [
    "### Covariance matrices\n",
    "\n",
    "For Gaussian Mixture, we can look at the covariance matrices for each cluster:"
   ]
  },
  {
   "cell_type": "code",
   "execution_count": 65,
   "id": "5e0ead85",
   "metadata": {},
   "outputs": [
    {
     "name": "stdout",
     "output_type": "stream",
     "text": [
      "Cluster 1 (Red)\n",
      "[[8.54762532e-03 0.00000000e+00]\n",
      " [0.00000000e+00 1.00000000e-06]]\n",
      "\n",
      "Cluster 2 (Green)\n",
      "[[8.67009275e-03 0.00000000e+00]\n",
      " [0.00000000e+00 1.00000000e-06]]\n",
      "\n",
      "Cluster 3 (Blue)\n",
      "[[1.84036504e-02 0.00000000e+00]\n",
      " [0.00000000e+00 1.00000000e-06]]\n"
     ]
    },
    {
     "data": {
      "image/png": "[encoded data removed]",
      "text/plain": [
       "<Figure size 432x288 with 1 Axes>"
      ]
     },
     "metadata": {
      "needs_background": "light"
     },
     "output_type": "display_data"
    }
   ],
   "source": [
    "gauss = GaussianMixture(n_components=3, random_state=42)\n",
    "gauss.fit(cdata)\n",
    "\n",
    "print(\"Cluster 1 (Red)\")\n",
    "print(gauss.covariances_[0])\n",
    "\n",
    "print(\"\\nCluster 2 (Green)\")\n",
    "print(gauss.covariances_[1])\n",
    "\n",
    "print(\"\\nCluster 3 (Blue)\")\n",
    "print(gauss.covariances_[2])\n",
    "\n",
    "plt.imshow(gauss.covariances_[0], cmap='hot', interpolation='nearest')\n",
    "plt.show()"
   ]
  },
  {
   "cell_type": "markdown",
   "id": "7cacc6ee",
   "metadata": {},
   "source": [
    "The covariance matrix for each of the clusters is very similar.\n",
    "\n",
    "All three clusters have no covariance between time and winner at all.  This make sense as, within each cluster, there is only one value for winner and can therefore have no correlation with time.\n",
    "\n",
    "The clusters also have a variance for winner of 1e-6.  This very small amount of variance will again be due to the fact that there is only one value for winner within each cluster.\n",
    "\n",
    "Finally, the time variance of the clusters is similar for white wins and black wins, but slightly higher for draws.  This will likely be due to the fact that, as discussed earlier, drawn games often arise from long play times.\n",
    "\n",
    "## Decision Trees"
   ]
  },
  {
   "cell_type": "code",
   "execution_count": 57,
   "id": "e84fef0f",
   "metadata": {},
   "outputs": [],
   "source": [
    "from sklearn.tree import DecisionTreeClassifier, plot_tree\n",
    "from sklearn.model_selection import train_test_split\n",
    "\n",
    "def multi_scores(classifier, data, class_name, test_size=0.25):\n",
    "    \n",
    "    model = data.drop([class_name], axis=1)\n",
    "    target = data[class_name]\n",
    "    \n",
    "    train_model, test_model = train_test_split( model, test_size=test_size, random_state=42)\n",
    "    train_target, test_target = train_test_split( target, test_size=test_size, random_state=42)\n",
    "    \n",
    "    classifier.fit(train_model, train_target)\n",
    "    \n",
    "    return (\n",
    "        classifier.score(train_model, train_target),\n",
    "        classifier.score(test_model, test_target),\n",
    "        np.mean(cross_val_score(classifier, train_model, train_target, cv=int(1/test_size), scoring=\"accuracy\"))\n",
    "    )\n",
    "\n",
    "# Numberise data\n",
    "ndata = numberise(data)"
   ]
  },
  {
   "cell_type": "code",
   "execution_count": 58,
   "id": "29530fb1",
   "metadata": {},
   "outputs": [],
   "source": [
    "def smooth(l):\n",
    "    return [ np.mean(l[i-1:i+2]) if (i>1)and(i<len(l)-1) else l[i] for i in range(len(l)) ]\n",
    "\n",
    "def optimal_max_depth(classifier, data, class_name, depth_range):\n",
    "    \n",
    "    # Calculate accuracies\n",
    "    scores, split_scores, cross_scores = [], [], []\n",
    "    for i in depth_range:\n",
    "        score, split_score, cross_score = multi_scores(classifier(i), data, class_name)\n",
    "        scores.append( score )\n",
    "        split_scores.append( split_score )\n",
    "        cross_scores.append( cross_score )\n",
    "    figure(figsize=(15, 5))\n",
    "    plt.subplot(1, 2, 1)\n",
    "    plt.title(\"Accuracy per max_depth\")\n",
    "    plt.plot(depth_range, scores, label=\"non-split\", c=\"red\")\n",
    "    plt.plot(depth_range, split_scores, label=\"test-train split\", c=\"orange\")\n",
    "    plt.plot(depth_range, cross_scores, label=\"cross val\", c=\"green\")\n",
    "    plt.legend()\n",
    "    \n",
    "    ## Get the difference in accuracy between each max_depth increase\n",
    "    score_delta = [ scores[i]-scores[i-1] if i>scores[0] else 0 for i in range(len(depth_range)) ]\n",
    "    plt.subplot(1, 2, 2)\n",
    "    plt.title(\"Accuracy difference per max_depth\")\n",
    "    plt.plot(depth_range, score_delta, c=\"cyan\")\n",
    "\n",
    "    # Average deltas with neighbours to smooth out graph\n",
    "    smoothed_delta = smooth(smooth(score_delta))\n",
    "    plt.plot(depth_range, smoothed_delta)\n",
    "\n",
    "    # Get highest delta point\n",
    "    max_index = np.argmax(smoothed_delta)\n",
    "    max_depth = depth_range[max_index]\n",
    "    max_value = smoothed_delta[max_index]\n",
    "    plt.axvline(max_depth, c=\"green\", linestyle='--')\n",
    "\n",
    "    plt.show()\n",
    "    print(f\"Optimal max_depth: {max_depth}\")"
   ]
  },
  {
   "cell_type": "code",
   "execution_count": 59,
   "id": "2701d356",
   "metadata": {},
   "outputs": [
    {
     "data": {
      "image/png": "[encoded data removed]",
      "text/plain": [
       "<Figure size 1080x360 with 2 Axes>"
      ]
     },
     "metadata": {
      "needs_background": "light"
     },
     "output_type": "display_data"
    },
    {
     "name": "stdout",
     "output_type": "stream",
     "text": [
      "Optimal max_depth: 10\n"
     ]
    }
   ],
   "source": [
    "tree = lambda n: DecisionTreeClassifier(max_depth=n, random_state=42, min_samples_leaf=10)\n",
    "optimal_max_depth( tree, ndata, \"winner\", range(1,30) )"
   ]
  }
 ],
 "metadata": {
  "kernelspec": {
   "display_name": "Python 3",
   "language": "python",
   "name": "python3"
  },
  "language_info": {
   "codemirror_mode": {
    "name": "ipython",
    "version": 3
   },
   "file_extension": ".py",
   "mimetype": "text/x-python",
   "name": "python",
   "nbconvert_exporter": "python",
   "pygments_lexer": "ipython3",
   "version": "3.8.8"
  }
 },
 "nbformat": 4,
 "nbformat_minor": 5
}
