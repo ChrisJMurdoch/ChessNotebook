{
 "cells": [
  {
   "cell_type": "markdown",
   "id": "58a475a1",
   "metadata": {},
   "source": [
    "# Chess games data analysis"
   ]
  },
  {
   "cell_type": "markdown",
   "id": "7752a7e6",
   "metadata": {},
   "source": [
    "## Imports"
   ]
  },
  {
   "cell_type": "code",
   "execution_count": 1,
   "id": "2f97b163",
   "metadata": {},
   "outputs": [],
   "source": [
    "import sys\n",
    "assert sys.version_info >= (3, 5)\n",
    "import sklearn\n",
    "assert sklearn.__version__ >= \"0.20\"\n",
    "import numpy as np\n",
    "import os\n",
    "import urllib\n",
    "import pandas as pd\n",
    "import urllib.request\n",
    "%matplotlib inline\n",
    "import matplotlib as mpl\n",
    "import matplotlib.pyplot as plt"
   ]
  },
  {
   "cell_type": "markdown",
   "id": "56c39bc2",
   "metadata": {},
   "source": [
    "## Loading the data"
   ]
  },
  {
   "cell_type": "markdown",
   "id": "d76af9fe",
   "metadata": {},
   "source": [
    "The data has been originally sourced from [Kaggle](https://www.kaggle.com/datasnaek/chess) and is hosted on [GitHub](https://github.com/ChrisJMurdoch/ChessGameData) for convenience.\n",
    "\n",
    "To speed up this part for multiple runs, you can clone the repository to ./data/"
   ]
  },
  {
   "cell_type": "code",
   "execution_count": 2,
   "id": "e62958ad",
   "metadata": {},
   "outputs": [],
   "source": [
    "LOCAL_SRC = \"./data/\"\n",
    "GITHUB_SRC = \"https://raw.githubusercontent.com/ChrisJMurdoch/ChessGameData/main/\""
   ]
  },
  {
   "cell_type": "code",
   "execution_count": 3,
   "id": "63923d67",
   "metadata": {},
   "outputs": [],
   "source": [
    "try: # Try getting the data locally\n",
    "    data = pd.read_csv(LOCAL_SRC+\"chess_data.csv\", index_col=0)\n",
    "    \n",
    "except: # Default to GitHub repo\n",
    "    data = pd.read_csv(GITHUB_SRC+\"chess_data.csv\", index_col=0)"
   ]
  },
  {
   "cell_type": "code",
   "execution_count": 4,
   "id": "564f92d5",
   "metadata": {},
   "outputs": [],
   "source": [
    "# Rename some of the lengthier column names\n",
    "data = data.rename(columns={\n",
    "    \"created_at\":\"start\",\n",
    "    \"last_move_at\":\"end\",\n",
    "    \"victory_status\": \"status\",\n",
    "    \"opening_eco\": \"eco\"\n",
    "})"
   ]
  },
  {
   "cell_type": "markdown",
   "id": "9afc82c9",
   "metadata": {},
   "source": [
    "## Improving the data\n",
    "\n",
    "Some useful data can be inferred from existing columns to provide more meaningful results."
   ]
  },
  {
   "cell_type": "markdown",
   "id": "a4ffb09f",
   "metadata": {},
   "source": [
    "### Time and increment\n",
    "\n",
    "In chess, the time that each player has to make their move is variable.  In the original data, this data is stored as a single string in the form:\n",
    "\n",
    " - 10+5 : Each person starts with 10 minutes on their clock, and 5 seconds is added each turn\n",
    " - 0+10 : Start with no time on clock, add 10 seconds each turn\n",
    " - and so on...\n",
    "\n",
    "As this does not allow the time and increment values to be recognised as ratio values, we should separate them into columns like so:"
   ]
  },
  {
   "cell_type": "code",
   "execution_count": 5,
   "id": "921eeea7",
   "metadata": {},
   "outputs": [],
   "source": [
    "data[\"time\"]      = data[\"increment_code\"].apply( lambda code : int(code.split(\"+\")[0])*60 )\n",
    "data[\"increment\"] = data[\"increment_code\"].apply( lambda code : int(code.split(\"+\")[1]) )"
   ]
  },
  {
   "cell_type": "markdown",
   "id": "32ed1984",
   "metadata": {},
   "source": [
    "### Start and end times\n",
    "\n",
    "The columns start and end timestamps should provide good information on when the game was played and how long it lasted.  Unfortunately, the values are stored as floating-point numbers with precision far too low to give meaningful results on duration.  As can be seen below, 43% of the rows report the end time to be exactly the same as the start time."
   ]
  },
  {
   "cell_type": "code",
   "execution_count": 6,
   "id": "83aa9671",
   "metadata": {},
   "outputs": [
    {
     "data": {
      "text/plain": [
       "False    57.383588\n",
       "True     42.616412\n",
       "dtype: float64"
      ]
     },
     "execution_count": 6,
     "metadata": {},
     "output_type": "execute_result"
    }
   ],
   "source": [
    "zero_duration = data[\"end\"] == data[\"start\"]\n",
    "zero_duration.value_counts(normalize=True)*100"
   ]
  },
  {
   "cell_type": "markdown",
   "id": "161978b4",
   "metadata": {},
   "source": [
    "Although we can't get the amount of time the players took to finish the game, we can calculate how much time was available to the players.\n",
    "\n",
    "Because the time column represents the number of minutes each player has on their clock at the start of the game, and because increment represents the amount of seconds added at the start of their turn, the game's maximum duration can be calculated like so:"
   ]
  },
  {
   "cell_type": "code",
   "execution_count": 7,
   "id": "964b77e4",
   "metadata": {},
   "outputs": [],
   "source": [
    "data[\"max_duration\"] = (data[\"time\"]*2) + (data[\"turns\"]*data[\"increment\"])\n",
    "data[\"max_duration\"] = data[\"max_duration\"].clip(upper=20.25*60*60)"
   ]
  },
  {
   "cell_type": "markdown",
   "id": "4610e22b",
   "metadata": {},
   "source": [
    "Note that the time has been capped at 20.25 hours<sup>1</sup>.  As no player should exceed this time, there is no point in differentiating a player with 21 hours on the clock and one with 100 hours.\n",
    "\n",
    "<sup>1</sup> [The longest official chess game had 269 moves and lasted 20 hours and 15 minutes.](https://en.wikipedia.org/wiki/List_of_world_records_in_chess)"
   ]
  },
  {
   "cell_type": "markdown",
   "id": "9ccc7cb2",
   "metadata": {},
   "source": [
    "### Game winner\n",
    "\n",
    "As winning, drawing and losing in a zero-sum game like chess is easy to quantify, we can change the winner column to a numerical value.  This allows us to calculate the mean winner when aggregating the data.  We can also calculate the difference in ratings into a column so that the difference is preserved when the data is grouped."
   ]
  },
  {
   "cell_type": "code",
   "execution_count": 8,
   "id": "b103317f",
   "metadata": {},
   "outputs": [],
   "source": [
    "data = data.replace({ \"winner\" : {\"white\":1, \"draw\":0, \"black\":-1} })\n",
    "data[\"rating_delta\"] = data[\"white_rating\"] - data[\"black_rating\"]"
   ]
  },
  {
   "cell_type": "markdown",
   "id": "cb8aaf9d",
   "metadata": {},
   "source": [
    "## Cleaning up the data\n",
    "\n",
    "Before the data is displayed, a few of the unnecessary parts can be removed:\n"
   ]
  },
  {
   "cell_type": "code",
   "execution_count": 9,
   "id": "5b82320b",
   "metadata": {},
   "outputs": [],
   "source": [
    "# Drop the columns that aren't needed\n",
    "data = data.drop([\n",
    "    'start', 'end',         # These floats are too low-accuracy to provide meaningful results\n",
    "    'increment_code',       # Replaced by time and increment\n",
    "    'white_id', 'black_id', # Player names aren't relevant to this analysis\n",
    "    'moves',                # This data is complex but may be used later\n",
    "    'opening_name'          # This can be inferred from opening_eco\n",
    "], axis=1)\n",
    "\n",
    "# Change to a more intuitive column order\n",
    "data = data[[\n",
    "    \"rated\", \"status\", \"winner\",\n",
    "    \"white_rating\", \"black_rating\", \"rating_delta\",\n",
    "    \"eco\", \"opening_ply\",\n",
    "    \"turns\", \"time\",\"increment\", \"max_duration\"\n",
    "]]"
   ]
  },
  {
   "cell_type": "markdown",
   "id": "b292f671",
   "metadata": {},
   "source": [
    "### Invalid rows\n",
    "\n",
    "To ensure that the data works with the neural network, all of the cells must have valid data in them.  Fortunately, as can be seen below, the data set comes with no incomplete or invalid data."
   ]
  },
  {
   "cell_type": "code",
   "execution_count": 10,
   "id": "8f962e3f",
   "metadata": {},
   "outputs": [
    {
     "data": {
      "text/html": [
       "<div>\n",
       "<style scoped>\n",
       "    .dataframe tbody tr th:only-of-type {\n",
       "        vertical-align: middle;\n",
       "    }\n",
       "\n",
       "    .dataframe tbody tr th {\n",
       "        vertical-align: top;\n",
       "    }\n",
       "\n",
       "    .dataframe thead th {\n",
       "        text-align: right;\n",
       "    }\n",
       "</style>\n",
       "<table border=\"1\" class=\"dataframe\">\n",
       "  <thead>\n",
       "    <tr style=\"text-align: right;\">\n",
       "      <th></th>\n",
       "      <th>rated</th>\n",
       "      <th>status</th>\n",
       "      <th>winner</th>\n",
       "      <th>white_rating</th>\n",
       "      <th>black_rating</th>\n",
       "      <th>rating_delta</th>\n",
       "      <th>eco</th>\n",
       "      <th>opening_ply</th>\n",
       "      <th>turns</th>\n",
       "      <th>time</th>\n",
       "      <th>increment</th>\n",
       "      <th>max_duration</th>\n",
       "    </tr>\n",
       "    <tr>\n",
       "      <th>id</th>\n",
       "      <th></th>\n",
       "      <th></th>\n",
       "      <th></th>\n",
       "      <th></th>\n",
       "      <th></th>\n",
       "      <th></th>\n",
       "      <th></th>\n",
       "      <th></th>\n",
       "      <th></th>\n",
       "      <th></th>\n",
       "      <th></th>\n",
       "      <th></th>\n",
       "    </tr>\n",
       "  </thead>\n",
       "  <tbody>\n",
       "  </tbody>\n",
       "</table>\n",
       "</div>"
      ],
      "text/plain": [
       "Empty DataFrame\n",
       "Columns: [rated, status, winner, white_rating, black_rating, rating_delta, eco, opening_ply, turns, time, increment, max_duration]\n",
       "Index: []"
      ]
     },
     "execution_count": 10,
     "metadata": {},
     "output_type": "execute_result"
    }
   ],
   "source": [
    "data[data.isnull().any(axis=1)].head()"
   ]
  },
  {
   "cell_type": "markdown",
   "id": "25299dbf",
   "metadata": {},
   "source": [
    "## Describing the data"
   ]
  },
  {
   "cell_type": "code",
   "execution_count": 11,
   "id": "abf07ab3",
   "metadata": {
    "scrolled": true
   },
   "outputs": [
    {
     "data": {
      "text/html": [
       "<div>\n",
       "<style scoped>\n",
       "    .dataframe tbody tr th:only-of-type {\n",
       "        vertical-align: middle;\n",
       "    }\n",
       "\n",
       "    .dataframe tbody tr th {\n",
       "        vertical-align: top;\n",
       "    }\n",
       "\n",
       "    .dataframe thead th {\n",
       "        text-align: right;\n",
       "    }\n",
       "</style>\n",
       "<table border=\"1\" class=\"dataframe\">\n",
       "  <thead>\n",
       "    <tr style=\"text-align: right;\">\n",
       "      <th></th>\n",
       "      <th>rated</th>\n",
       "      <th>status</th>\n",
       "      <th>winner</th>\n",
       "      <th>white_rating</th>\n",
       "      <th>black_rating</th>\n",
       "      <th>rating_delta</th>\n",
       "      <th>eco</th>\n",
       "      <th>opening_ply</th>\n",
       "      <th>turns</th>\n",
       "      <th>time</th>\n",
       "      <th>increment</th>\n",
       "      <th>max_duration</th>\n",
       "    </tr>\n",
       "    <tr>\n",
       "      <th>id</th>\n",
       "      <th></th>\n",
       "      <th></th>\n",
       "      <th></th>\n",
       "      <th></th>\n",
       "      <th></th>\n",
       "      <th></th>\n",
       "      <th></th>\n",
       "      <th></th>\n",
       "      <th></th>\n",
       "      <th></th>\n",
       "      <th></th>\n",
       "      <th></th>\n",
       "    </tr>\n",
       "  </thead>\n",
       "  <tbody>\n",
       "    <tr>\n",
       "      <th>TZJHLljE</th>\n",
       "      <td>False</td>\n",
       "      <td>outoftime</td>\n",
       "      <td>1</td>\n",
       "      <td>1500</td>\n",
       "      <td>1191</td>\n",
       "      <td>309</td>\n",
       "      <td>D10</td>\n",
       "      <td>5</td>\n",
       "      <td>13</td>\n",
       "      <td>900</td>\n",
       "      <td>2</td>\n",
       "      <td>1826</td>\n",
       "    </tr>\n",
       "    <tr>\n",
       "      <th>l1NXvwaE</th>\n",
       "      <td>True</td>\n",
       "      <td>resign</td>\n",
       "      <td>-1</td>\n",
       "      <td>1322</td>\n",
       "      <td>1261</td>\n",
       "      <td>61</td>\n",
       "      <td>B00</td>\n",
       "      <td>4</td>\n",
       "      <td>16</td>\n",
       "      <td>300</td>\n",
       "      <td>10</td>\n",
       "      <td>760</td>\n",
       "    </tr>\n",
       "    <tr>\n",
       "      <th>mIICvQHh</th>\n",
       "      <td>True</td>\n",
       "      <td>mate</td>\n",
       "      <td>1</td>\n",
       "      <td>1496</td>\n",
       "      <td>1500</td>\n",
       "      <td>-4</td>\n",
       "      <td>C20</td>\n",
       "      <td>3</td>\n",
       "      <td>61</td>\n",
       "      <td>300</td>\n",
       "      <td>10</td>\n",
       "      <td>1210</td>\n",
       "    </tr>\n",
       "    <tr>\n",
       "      <th>kWKvrqYL</th>\n",
       "      <td>True</td>\n",
       "      <td>mate</td>\n",
       "      <td>1</td>\n",
       "      <td>1439</td>\n",
       "      <td>1454</td>\n",
       "      <td>-15</td>\n",
       "      <td>D02</td>\n",
       "      <td>3</td>\n",
       "      <td>61</td>\n",
       "      <td>1200</td>\n",
       "      <td>0</td>\n",
       "      <td>2400</td>\n",
       "    </tr>\n",
       "    <tr>\n",
       "      <th>9tXo1AUZ</th>\n",
       "      <td>True</td>\n",
       "      <td>mate</td>\n",
       "      <td>1</td>\n",
       "      <td>1523</td>\n",
       "      <td>1469</td>\n",
       "      <td>54</td>\n",
       "      <td>C41</td>\n",
       "      <td>5</td>\n",
       "      <td>95</td>\n",
       "      <td>1800</td>\n",
       "      <td>3</td>\n",
       "      <td>3885</td>\n",
       "    </tr>\n",
       "  </tbody>\n",
       "</table>\n",
       "</div>"
      ],
      "text/plain": [
       "          rated     status  winner  white_rating  black_rating  rating_delta  \\\n",
       "id                                                                             \n",
       "TZJHLljE  False  outoftime       1          1500          1191           309   \n",
       "l1NXvwaE   True     resign      -1          1322          1261            61   \n",
       "mIICvQHh   True       mate       1          1496          1500            -4   \n",
       "kWKvrqYL   True       mate       1          1439          1454           -15   \n",
       "9tXo1AUZ   True       mate       1          1523          1469            54   \n",
       "\n",
       "          eco  opening_ply  turns  time  increment  max_duration  \n",
       "id                                                                \n",
       "TZJHLljE  D10            5     13   900          2          1826  \n",
       "l1NXvwaE  B00            4     16   300         10           760  \n",
       "mIICvQHh  C20            3     61   300         10          1210  \n",
       "kWKvrqYL  D02            3     61  1200          0          2400  \n",
       "9tXo1AUZ  C41            5     95  1800          3          3885  "
      ]
     },
     "execution_count": 11,
     "metadata": {},
     "output_type": "execute_result"
    }
   ],
   "source": [
    "data.head()"
   ]
  },
  {
   "cell_type": "markdown",
   "id": "7f34c5de",
   "metadata": {},
   "source": [
    "As can be seen above, the data consists of 12 rows:\n",
    " - **rated (nominal)**: If the game was ranked by skill\n",
    " - **status (nominal)**: If the game was won, drawn, forfeited etc.\n",
    " - **winner (ratio)**: Who won the game\n",
    " - **white_rating (interval)**: Skill rating of white player\n",
    " - **black_rating (interval)**: Skill rating of black player\n",
    " - **rating_delta (ratio)**: Difference in skill ratings (white-black)\n",
    " - **eco (nominal)**: ECO code for game opening used\n",
    " - **opening_ply (ratio)**: How many moves conformed to the opening sequence\n",
    " - **turns (ratio)**: How many turns the game lasted\n",
    " - **time (ratio)**: How many seconds each player started with on their clock\n",
    " - **increment (ratio)**: How many seconds each player gained at the start of their turn\n",
    " - **max_duration (ratio)**: The maximum duration the game could have lasted"
   ]
  },
  {
   "cell_type": "code",
   "execution_count": 14,
   "id": "cde5b7f4",
   "metadata": {},
   "outputs": [
    {
     "data": {
      "text/html": [
       "<style  type=\"text/css\" >\n",
       "#T_9daff_row0_col0,#T_9daff_row0_col1,#T_9daff_row0_col2,#T_9daff_row0_col3,#T_9daff_row0_col4,#T_9daff_row0_col5,#T_9daff_row0_col6,#T_9daff_row0_col7,#T_9daff_row0_col8,#T_9daff_row0_col9,#T_9daff_row1_col1,#T_9daff_row1_col2,#T_9daff_row1_col3,#T_9daff_row1_col4,#T_9daff_row1_col5,#T_9daff_row1_col6,#T_9daff_row1_col7,#T_9daff_row1_col8,#T_9daff_row1_col9,#T_9daff_row2_col2,#T_9daff_row2_col3,#T_9daff_row2_col4,#T_9daff_row2_col5,#T_9daff_row2_col6,#T_9daff_row2_col7,#T_9daff_row2_col8,#T_9daff_row2_col9,#T_9daff_row3_col3,#T_9daff_row3_col4,#T_9daff_row3_col5,#T_9daff_row3_col6,#T_9daff_row3_col7,#T_9daff_row3_col8,#T_9daff_row3_col9,#T_9daff_row4_col4,#T_9daff_row4_col5,#T_9daff_row4_col6,#T_9daff_row4_col7,#T_9daff_row4_col8,#T_9daff_row4_col9,#T_9daff_row5_col5,#T_9daff_row5_col6,#T_9daff_row5_col7,#T_9daff_row5_col8,#T_9daff_row5_col9,#T_9daff_row6_col6,#T_9daff_row6_col7,#T_9daff_row6_col8,#T_9daff_row6_col9,#T_9daff_row7_col7,#T_9daff_row7_col8,#T_9daff_row7_col9,#T_9daff_row8_col8,#T_9daff_row8_col9,#T_9daff_row9_col9{\n",
       "            background-color:  #000000;\n",
       "            color:  #f1f1f1;\n",
       "            background-color:  #f1f1f1;\n",
       "        }#T_9daff_row1_col0{\n",
       "            background-color:  #f6f5f6;\n",
       "            color:  #000000;\n",
       "        }#T_9daff_row2_col0{\n",
       "            background-color:  #f6f7f6;\n",
       "            color:  #000000;\n",
       "        }#T_9daff_row2_col1{\n",
       "            background-color:  #c3e7bd;\n",
       "            color:  #000000;\n",
       "        }#T_9daff_row3_col0{\n",
       "            background-color:  #edf5eb;\n",
       "            color:  #000000;\n",
       "        }#T_9daff_row3_col1{\n",
       "            background-color:  #ceb5d7;\n",
       "            color:  #000000;\n",
       "        }#T_9daff_row3_col2,#T_9daff_row9_col7,#T_9daff_row9_col8{\n",
       "            background-color:  #00441b;\n",
       "            color:  #f1f1f1;\n",
       "        }#T_9daff_row4_col0,#T_9daff_row7_col5{\n",
       "            background-color:  #f2ebf2;\n",
       "            color:  #000000;\n",
       "        }#T_9daff_row4_col1{\n",
       "            background-color:  #328c47;\n",
       "            color:  #000000;\n",
       "        }#T_9daff_row4_col2{\n",
       "            background-color:  #13692f;\n",
       "            color:  #f1f1f1;\n",
       "        }#T_9daff_row4_col3{\n",
       "            background-color:  #661e73;\n",
       "            color:  #f1f1f1;\n",
       "        }#T_9daff_row5_col0{\n",
       "            background-color:  #f7f6f7;\n",
       "            color:  #000000;\n",
       "        }#T_9daff_row5_col1{\n",
       "            background-color:  #f1f5ef;\n",
       "            color:  #000000;\n",
       "        }#T_9daff_row5_col2{\n",
       "            background-color:  #69b76d;\n",
       "            color:  #000000;\n",
       "        }#T_9daff_row5_col3{\n",
       "            background-color:  #7bc17c;\n",
       "            color:  #000000;\n",
       "        }#T_9daff_row5_col4{\n",
       "            background-color:  #eff5ee;\n",
       "            color:  #000000;\n",
       "        }#T_9daff_row6_col0{\n",
       "            background-color:  #dbf1d6;\n",
       "            color:  #000000;\n",
       "        }#T_9daff_row6_col1{\n",
       "            background-color:  #f0e7f0;\n",
       "            color:  #000000;\n",
       "        }#T_9daff_row6_col2{\n",
       "            background-color:  #c9e9c3;\n",
       "            color:  #000000;\n",
       "        }#T_9daff_row6_col3{\n",
       "            background-color:  #b9e3b3;\n",
       "            color:  #000000;\n",
       "        }#T_9daff_row6_col4{\n",
       "            background-color:  #f1eaf1;\n",
       "            color:  #000000;\n",
       "        }#T_9daff_row6_col5{\n",
       "            background-color:  #e6f3e3;\n",
       "            color:  #000000;\n",
       "        }#T_9daff_row7_col0{\n",
       "            background-color:  #e6d2e7;\n",
       "            color:  #000000;\n",
       "        }#T_9daff_row7_col1,#T_9daff_row9_col1,#T_9daff_row9_col4,#T_9daff_row9_col6{\n",
       "            background-color:  #f5f7f5;\n",
       "            color:  #000000;\n",
       "        }#T_9daff_row7_col2{\n",
       "            background-color:  #ebdeec;\n",
       "            color:  #000000;\n",
       "        }#T_9daff_row7_col3{\n",
       "            background-color:  #ebdcec;\n",
       "            color:  #000000;\n",
       "        }#T_9daff_row7_col4,#T_9daff_row8_col1,#T_9daff_row8_col4{\n",
       "            background-color:  #f4f6f3;\n",
       "            color:  #000000;\n",
       "        }#T_9daff_row7_col6,#T_9daff_row8_col6{\n",
       "            background-color:  #ede2ee;\n",
       "            color:  #000000;\n",
       "        }#T_9daff_row8_col0{\n",
       "            background-color:  #e7d4e8;\n",
       "            color:  #000000;\n",
       "        }#T_9daff_row8_col2,#T_9daff_row9_col5{\n",
       "            background-color:  #f4eff4;\n",
       "            color:  #000000;\n",
       "        }#T_9daff_row8_col3{\n",
       "            background-color:  #f3eef3;\n",
       "            color:  #000000;\n",
       "        }#T_9daff_row8_col5{\n",
       "            background-color:  #f5f2f5;\n",
       "            color:  #000000;\n",
       "        }#T_9daff_row8_col7{\n",
       "            background-color:  #085424;\n",
       "            color:  #f1f1f1;\n",
       "        }#T_9daff_row9_col0{\n",
       "            background-color:  #e4d0e6;\n",
       "            color:  #000000;\n",
       "        }#T_9daff_row9_col2{\n",
       "            background-color:  #efe4ef;\n",
       "            color:  #000000;\n",
       "        }#T_9daff_row9_col3{\n",
       "            background-color:  #eee3ee;\n",
       "            color:  #000000;\n",
       "        }</style><table id=\"T_9daff_\" ><thead>    <tr>        <th class=\"blank level0\" ></th>        <th class=\"col_heading level0 col0\" >rated</th>        <th class=\"col_heading level0 col1\" >winner</th>        <th class=\"col_heading level0 col2\" >white_rating</th>        <th class=\"col_heading level0 col3\" >black_rating</th>        <th class=\"col_heading level0 col4\" >rating_delta</th>        <th class=\"col_heading level0 col5\" >opening_ply</th>        <th class=\"col_heading level0 col6\" >turns</th>        <th class=\"col_heading level0 col7\" >time</th>        <th class=\"col_heading level0 col8\" >increment</th>        <th class=\"col_heading level0 col9\" >max_duration</th>    </tr></thead><tbody>\n",
       "                <tr>\n",
       "                        <th id=\"T_9daff_level0_row0\" class=\"row_heading level0 row0\" >rated</th>\n",
       "                        <td id=\"T_9daff_row0_col0\" class=\"data row0 col0\" >nan</td>\n",
       "                        <td id=\"T_9daff_row0_col1\" class=\"data row0 col1\" >nan</td>\n",
       "                        <td id=\"T_9daff_row0_col2\" class=\"data row0 col2\" >nan</td>\n",
       "                        <td id=\"T_9daff_row0_col3\" class=\"data row0 col3\" >nan</td>\n",
       "                        <td id=\"T_9daff_row0_col4\" class=\"data row0 col4\" >nan</td>\n",
       "                        <td id=\"T_9daff_row0_col5\" class=\"data row0 col5\" >nan</td>\n",
       "                        <td id=\"T_9daff_row0_col6\" class=\"data row0 col6\" >nan</td>\n",
       "                        <td id=\"T_9daff_row0_col7\" class=\"data row0 col7\" >nan</td>\n",
       "                        <td id=\"T_9daff_row0_col8\" class=\"data row0 col8\" >nan</td>\n",
       "                        <td id=\"T_9daff_row0_col9\" class=\"data row0 col9\" >nan</td>\n",
       "            </tr>\n",
       "            <tr>\n",
       "                        <th id=\"T_9daff_level0_row1\" class=\"row_heading level0 row1\" >winner</th>\n",
       "                        <td id=\"T_9daff_row1_col0\" class=\"data row1 col0\" >-0.01</td>\n",
       "                        <td id=\"T_9daff_row1_col1\" class=\"data row1 col1\" >nan</td>\n",
       "                        <td id=\"T_9daff_row1_col2\" class=\"data row1 col2\" >nan</td>\n",
       "                        <td id=\"T_9daff_row1_col3\" class=\"data row1 col3\" >nan</td>\n",
       "                        <td id=\"T_9daff_row1_col4\" class=\"data row1 col4\" >nan</td>\n",
       "                        <td id=\"T_9daff_row1_col5\" class=\"data row1 col5\" >nan</td>\n",
       "                        <td id=\"T_9daff_row1_col6\" class=\"data row1 col6\" >nan</td>\n",
       "                        <td id=\"T_9daff_row1_col7\" class=\"data row1 col7\" >nan</td>\n",
       "                        <td id=\"T_9daff_row1_col8\" class=\"data row1 col8\" >nan</td>\n",
       "                        <td id=\"T_9daff_row1_col9\" class=\"data row1 col9\" >nan</td>\n",
       "            </tr>\n",
       "            <tr>\n",
       "                        <th id=\"T_9daff_level0_row2\" class=\"row_heading level0 row2\" >white_rating</th>\n",
       "                        <td id=\"T_9daff_row2_col0\" class=\"data row2 col0\" >0.00</td>\n",
       "                        <td id=\"T_9daff_row2_col1\" class=\"data row2 col1\" >0.14</td>\n",
       "                        <td id=\"T_9daff_row2_col2\" class=\"data row2 col2\" >nan</td>\n",
       "                        <td id=\"T_9daff_row2_col3\" class=\"data row2 col3\" >nan</td>\n",
       "                        <td id=\"T_9daff_row2_col4\" class=\"data row2 col4\" >nan</td>\n",
       "                        <td id=\"T_9daff_row2_col5\" class=\"data row2 col5\" >nan</td>\n",
       "                        <td id=\"T_9daff_row2_col6\" class=\"data row2 col6\" >nan</td>\n",
       "                        <td id=\"T_9daff_row2_col7\" class=\"data row2 col7\" >nan</td>\n",
       "                        <td id=\"T_9daff_row2_col8\" class=\"data row2 col8\" >nan</td>\n",
       "                        <td id=\"T_9daff_row2_col9\" class=\"data row2 col9\" >nan</td>\n",
       "            </tr>\n",
       "            <tr>\n",
       "                        <th id=\"T_9daff_level0_row3\" class=\"row_heading level0 row3\" >black_rating</th>\n",
       "                        <td id=\"T_9daff_row3_col0\" class=\"data row3 col0\" >0.03</td>\n",
       "                        <td id=\"T_9daff_row3_col1\" class=\"data row3 col1\" >-0.17</td>\n",
       "                        <td id=\"T_9daff_row3_col2\" class=\"data row3 col2\" >0.63</td>\n",
       "                        <td id=\"T_9daff_row3_col3\" class=\"data row3 col3\" >nan</td>\n",
       "                        <td id=\"T_9daff_row3_col4\" class=\"data row3 col4\" >nan</td>\n",
       "                        <td id=\"T_9daff_row3_col5\" class=\"data row3 col5\" >nan</td>\n",
       "                        <td id=\"T_9daff_row3_col6\" class=\"data row3 col6\" >nan</td>\n",
       "                        <td id=\"T_9daff_row3_col7\" class=\"data row3 col7\" >nan</td>\n",
       "                        <td id=\"T_9daff_row3_col8\" class=\"data row3 col8\" >nan</td>\n",
       "                        <td id=\"T_9daff_row3_col9\" class=\"data row3 col9\" >nan</td>\n",
       "            </tr>\n",
       "            <tr>\n",
       "                        <th id=\"T_9daff_level0_row4\" class=\"row_heading level0 row4\" >rating_delta</th>\n",
       "                        <td id=\"T_9daff_row4_col0\" class=\"data row4 col0\" >-0.03</td>\n",
       "                        <td id=\"T_9daff_row4_col1\" class=\"data row4 col1\" >0.36</td>\n",
       "                        <td id=\"T_9daff_row4_col2\" class=\"data row4 col2\" >0.43</td>\n",
       "                        <td id=\"T_9daff_row4_col3\" class=\"data row4 col3\" >-0.43</td>\n",
       "                        <td id=\"T_9daff_row4_col4\" class=\"data row4 col4\" >nan</td>\n",
       "                        <td id=\"T_9daff_row4_col5\" class=\"data row4 col5\" >nan</td>\n",
       "                        <td id=\"T_9daff_row4_col6\" class=\"data row4 col6\" >nan</td>\n",
       "                        <td id=\"T_9daff_row4_col7\" class=\"data row4 col7\" >nan</td>\n",
       "                        <td id=\"T_9daff_row4_col8\" class=\"data row4 col8\" >nan</td>\n",
       "                        <td id=\"T_9daff_row4_col9\" class=\"data row4 col9\" >nan</td>\n",
       "            </tr>\n",
       "            <tr>\n",
       "                        <th id=\"T_9daff_level0_row5\" class=\"row_heading level0 row5\" >opening_ply</th>\n",
       "                        <td id=\"T_9daff_row5_col0\" class=\"data row5 col0\" >-0.00</td>\n",
       "                        <td id=\"T_9daff_row5_col1\" class=\"data row5 col1\" >0.02</td>\n",
       "                        <td id=\"T_9daff_row5_col2\" class=\"data row5 col2\" >0.28</td>\n",
       "                        <td id=\"T_9daff_row5_col3\" class=\"data row5 col3\" >0.26</td>\n",
       "                        <td id=\"T_9daff_row5_col4\" class=\"data row5 col4\" >0.03</td>\n",
       "                        <td id=\"T_9daff_row5_col5\" class=\"data row5 col5\" >nan</td>\n",
       "                        <td id=\"T_9daff_row5_col6\" class=\"data row5 col6\" >nan</td>\n",
       "                        <td id=\"T_9daff_row5_col7\" class=\"data row5 col7\" >nan</td>\n",
       "                        <td id=\"T_9daff_row5_col8\" class=\"data row5 col8\" >nan</td>\n",
       "                        <td id=\"T_9daff_row5_col9\" class=\"data row5 col9\" >nan</td>\n",
       "            </tr>\n",
       "            <tr>\n",
       "                        <th id=\"T_9daff_level0_row6\" class=\"row_heading level0 row6\" >turns</th>\n",
       "                        <td id=\"T_9daff_row6_col0\" class=\"data row6 col0\" >0.09</td>\n",
       "                        <td id=\"T_9daff_row6_col1\" class=\"data row6 col1\" >-0.04</td>\n",
       "                        <td id=\"T_9daff_row6_col2\" class=\"data row6 col2\" >0.13</td>\n",
       "                        <td id=\"T_9daff_row6_col3\" class=\"data row6 col3\" >0.16</td>\n",
       "                        <td id=\"T_9daff_row6_col4\" class=\"data row6 col4\" >-0.04</td>\n",
       "                        <td id=\"T_9daff_row6_col5\" class=\"data row6 col5\" >0.06</td>\n",
       "                        <td id=\"T_9daff_row6_col6\" class=\"data row6 col6\" >nan</td>\n",
       "                        <td id=\"T_9daff_row6_col7\" class=\"data row6 col7\" >nan</td>\n",
       "                        <td id=\"T_9daff_row6_col8\" class=\"data row6 col8\" >nan</td>\n",
       "                        <td id=\"T_9daff_row6_col9\" class=\"data row6 col9\" >nan</td>\n",
       "            </tr>\n",
       "            <tr>\n",
       "                        <th id=\"T_9daff_level0_row7\" class=\"row_heading level0 row7\" >time</th>\n",
       "                        <td id=\"T_9daff_row7_col0\" class=\"data row7 col0\" >-0.11</td>\n",
       "                        <td id=\"T_9daff_row7_col1\" class=\"data row7 col1\" >0.01</td>\n",
       "                        <td id=\"T_9daff_row7_col2\" class=\"data row7 col2\" >-0.07</td>\n",
       "                        <td id=\"T_9daff_row7_col3\" class=\"data row7 col3\" >-0.08</td>\n",
       "                        <td id=\"T_9daff_row7_col4\" class=\"data row7 col4\" >0.01</td>\n",
       "                        <td id=\"T_9daff_row7_col5\" class=\"data row7 col5\" >-0.03</td>\n",
       "                        <td id=\"T_9daff_row7_col6\" class=\"data row7 col6\" >-0.06</td>\n",
       "                        <td id=\"T_9daff_row7_col7\" class=\"data row7 col7\" >nan</td>\n",
       "                        <td id=\"T_9daff_row7_col8\" class=\"data row7 col8\" >nan</td>\n",
       "                        <td id=\"T_9daff_row7_col9\" class=\"data row7 col9\" >nan</td>\n",
       "            </tr>\n",
       "            <tr>\n",
       "                        <th id=\"T_9daff_level0_row8\" class=\"row_heading level0 row8\" >increment</th>\n",
       "                        <td id=\"T_9daff_row8_col0\" class=\"data row8 col0\" >-0.10</td>\n",
       "                        <td id=\"T_9daff_row8_col1\" class=\"data row8 col1\" >0.01</td>\n",
       "                        <td id=\"T_9daff_row8_col2\" class=\"data row8 col2\" >-0.02</td>\n",
       "                        <td id=\"T_9daff_row8_col3\" class=\"data row8 col3\" >-0.03</td>\n",
       "                        <td id=\"T_9daff_row8_col4\" class=\"data row8 col4\" >0.01</td>\n",
       "                        <td id=\"T_9daff_row8_col5\" class=\"data row8 col5\" >-0.01</td>\n",
       "                        <td id=\"T_9daff_row8_col6\" class=\"data row8 col6\" >-0.06</td>\n",
       "                        <td id=\"T_9daff_row8_col7\" class=\"data row8 col7\" >0.47</td>\n",
       "                        <td id=\"T_9daff_row8_col8\" class=\"data row8 col8\" >nan</td>\n",
       "                        <td id=\"T_9daff_row8_col9\" class=\"data row8 col9\" >nan</td>\n",
       "            </tr>\n",
       "            <tr>\n",
       "                        <th id=\"T_9daff_level0_row9\" class=\"row_heading level0 row9\" >max_duration</th>\n",
       "                        <td id=\"T_9daff_row9_col0\" class=\"data row9 col0\" >-0.11</td>\n",
       "                        <td id=\"T_9daff_row9_col1\" class=\"data row9 col1\" >0.01</td>\n",
       "                        <td id=\"T_9daff_row9_col2\" class=\"data row9 col2\" >-0.05</td>\n",
       "                        <td id=\"T_9daff_row9_col3\" class=\"data row9 col3\" >-0.06</td>\n",
       "                        <td id=\"T_9daff_row9_col4\" class=\"data row9 col4\" >0.00</td>\n",
       "                        <td id=\"T_9daff_row9_col5\" class=\"data row9 col5\" >-0.02</td>\n",
       "                        <td id=\"T_9daff_row9_col6\" class=\"data row9 col6\" >0.00</td>\n",
       "                        <td id=\"T_9daff_row9_col7\" class=\"data row9 col7\" >0.95</td>\n",
       "                        <td id=\"T_9daff_row9_col8\" class=\"data row9 col8\" >0.64</td>\n",
       "                        <td id=\"T_9daff_row9_col9\" class=\"data row9 col9\" >nan</td>\n",
       "            </tr>\n",
       "    </tbody></table>"
      ],
      "text/plain": [
       "<pandas.io.formats.style.Styler at 0x234d632a790>"
      ]
     },
     "execution_count": 14,
     "metadata": {},
     "output_type": "execute_result"
    }
   ],
   "source": [
    "from pandas.plotting import scatter_matrix\n",
    "#attributes = [\"white_rating\", \"black_rating\", \"winner\", \"turns\"]\n",
    "#scatter_matrix(data[attributes], figsize=(12, 8))\n",
    "#plt.show()\n",
    "\n",
    "# Used to colour graph: https://stackoverflow.com/a/50703596\n",
    "corr = data.corr()\n",
    "mask = np.zeros_like(corr, dtype=bool)\n",
    "mask[np.triu_indices_from(mask)] = True\n",
    "corr[mask] = np.nan\n",
    "(corr.style\n",
    " .set_precision(2)\n",
    " .background_gradient(cmap='PRGn', axis=None, vmin=-.5, vmax=.5)\n",
    " .highlight_null(null_color='#f1f1f1'))"
   ]
  },
  {
   "cell_type": "markdown",
   "id": "b0a573a9",
   "metadata": {},
   "source": [
    "Some correlations that are immediately apparent are:\n",
    "\n",
    " - Skill ratings and the winner - higher skill results in higher win chance\n",
    " - White and black skill ratings - ranked games pit similarly-rated opponents against each other\n",
    " - Rating delta with skill ratings and winner - delta is an engineered attribute from these columns\n",
    " - Turns positively correlate with rated games - this may be because players concede/leave less in important rated games\n",
    " - Turns and skill rating - Higher skill ratings mean that game-forfeiting mistakes aren't made so often\n",
    " - Opening plays and skill rating - higher-skill players will use standard opening moves more often\n",
    " - Negative correlation between time limits and rated - not sure about this yet"
   ]
  },
  {
   "cell_type": "markdown",
   "id": "0f3f9438",
   "metadata": {},
   "source": [
    "### Aggregating the data\n",
    "\n",
    "By grouping the data by the opening code (ECO), we can see that some openings are a lot more effective than others."
   ]
  },
  {
   "cell_type": "code",
   "execution_count": null,
   "id": "6fb5c7e5",
   "metadata": {},
   "outputs": [],
   "source": [
    "# Create new column to count occurrences\n",
    "data[\"unique\"] = data.index\n",
    "\n",
    "# Group by ECO code\n",
    "grouped = data.groupby('eco').agg({'winner':'mean', 'unique':'size'})\n",
    "\n",
    "# Filter out the openings with few recorded uses\n",
    "filtered = grouped[grouped[\"unique\"] > 160]\n",
    "\n",
    "# Display data sorted by mean win-rate for white\n",
    "filtered = filtered.sort_values(\"winner\")\n",
    "filtered"
   ]
  },
  {
   "cell_type": "markdown",
   "id": "6b840ea4",
   "metadata": {},
   "source": [
    "Because the winner is stored as a ratio, we can find the mean winner of each opening sequence.  This data shows the opening with the highest win rate for white as the popular opening; Queen's Gambit."
   ]
  },
  {
   "cell_type": "code",
   "execution_count": null,
   "id": "c017ee97",
   "metadata": {},
   "outputs": [],
   "source": [
    "filtered.plot(kind=\"bar\", use_index=True, y='winner', figsize=(20, 10))"
   ]
  },
  {
   "cell_type": "markdown",
   "id": "88dd2bfc",
   "metadata": {},
   "source": [
    "Although some openings are more effective than others overall, some will prove to have differing effectiveness depending on the skill level of the user.  Hopefully, the neural network's analysis will reveal what openings are good for players of a certain skill range."
   ]
  },
  {
   "cell_type": "code",
   "execution_count": null,
   "id": "949c60d2",
   "metadata": {},
   "outputs": [],
   "source": [
    "grouped = grouped.sort_values(\"unique\")\n",
    "grouped[\"unique\"].describe()"
   ]
  },
  {
   "cell_type": "code",
   "execution_count": null,
   "id": "45ffaf4a",
   "metadata": {},
   "outputs": [],
   "source": [
    "grouped.plot(kind=\"bar\", use_index=True, y='unique', figsize=(20, 10))\n",
    "plt.show()"
   ]
  },
  {
   "cell_type": "code",
   "execution_count": null,
   "id": "336a766a",
   "metadata": {},
   "outputs": [],
   "source": [
    "# TODO:\n",
    "# White/black win bias\n",
    "# Medain opening occurences = 10\n",
    "# Discretise data"
   ]
  }
 ],
 "metadata": {
  "kernelspec": {
   "display_name": "Python 3",
   "language": "python",
   "name": "python3"
  },
  "language_info": {
   "codemirror_mode": {
    "name": "ipython",
    "version": 3
   },
   "file_extension": ".py",
   "mimetype": "text/x-python",
   "name": "python",
   "nbconvert_exporter": "python",
   "pygments_lexer": "ipython3",
   "version": "3.8.8"
  }
 },
 "nbformat": 4,
 "nbformat_minor": 5
}
